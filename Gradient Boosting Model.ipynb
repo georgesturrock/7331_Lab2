{
 "cells": [
  {
   "cell_type": "code",
   "execution_count": 15,
   "metadata": {},
   "outputs": [],
   "source": [
    "import pandas as pd\n",
    "import xgboost as xgb\n",
    "from sklearn.grid_search import GridSearchCV\n",
    "from sklearn.cross_validation import train_test_split\n",
    "from xgboost.sklearn import XGBClassifier  \n",
    "import numpy as np\n",
    "from sklearn.metrics import accuracy_score, mean_squared_error, f1_score\n",
    "from sklearn.ensemble import GradientBoostingClassifier\n",
    "from sklearn.model_selection import StratifiedKFold, ShuffleSplit, GridSearchCV, ParameterGrid\n",
    "\n",
    "player = pd.read_csv('./data/player.csv')\n",
    "playerScale = pd.read_csv('./data/playerscale.csv')"
   ]
  },
  {
   "cell_type": "code",
   "execution_count": 2,
   "metadata": {},
   "outputs": [],
   "source": [
    "player.head()\n",
    "player = player.drop(['Unnamed: 0'], axis=1)\n",
    "playerScale.head()\n",
    "playerScale = playerScale.drop(['Unnamed: 0'], axis=1)"
   ]
  },
  {
   "cell_type": "code",
   "execution_count": 3,
   "metadata": {},
   "outputs": [
    {
     "name": "stdout",
     "output_type": "stream",
     "text": [
      "<class 'pandas.core.frame.DataFrame'>\n",
      "RangeIndex: 19820 entries, 0 to 19819\n",
      "Data columns (total 40 columns):\n",
      "G_x               19820 non-null float64\n",
      "AB                19820 non-null float64\n",
      "R                 19820 non-null float64\n",
      "H                 19820 non-null float64\n",
      "2B                19820 non-null float64\n",
      "3B                19820 non-null float64\n",
      "HR                19820 non-null float64\n",
      "RBI               19820 non-null float64\n",
      "SB_x              19820 non-null float64\n",
      "CS_x              19820 non-null float64\n",
      "BB                19820 non-null float64\n",
      "SO                19820 non-null float64\n",
      "IBB               19820 non-null float64\n",
      "HBP               19820 non-null float64\n",
      "SH                19820 non-null float64\n",
      "SF                19820 non-null float64\n",
      "GIDP              19820 non-null float64\n",
      "stint             19820 non-null float64\n",
      "G_y               19820 non-null float64\n",
      "GS                19820 non-null float64\n",
      "InnOuts           19820 non-null float64\n",
      "PO                19820 non-null float64\n",
      "A                 19820 non-null float64\n",
      "E                 19820 non-null float64\n",
      "DP                19820 non-null float64\n",
      "PB                19820 non-null float64\n",
      "SB_y              19820 non-null float64\n",
      "CS_y              19820 non-null float64\n",
      "salary            19820 non-null float64\n",
      "MinSalaries       19820 non-null float64\n",
      "adjSalary         19820 non-null float64\n",
      "adjMinSalaries    19820 non-null float64\n",
      "adjSalary2        19820 non-null float64\n",
      "Bavg              19820 non-null float64\n",
      "Slug              19820 non-null float64\n",
      "OBP               19820 non-null float64\n",
      "FPct              19820 non-null float64\n",
      "yearID            19820 non-null int64\n",
      "playerID          19820 non-null object\n",
      "Primary           19820 non-null object\n",
      "dtypes: float64(37), int64(1), object(2)\n",
      "memory usage: 6.0+ MB\n",
      "None\n"
     ]
    },
    {
     "data": {
      "text/plain": [
       "G_x               0\n",
       "AB                0\n",
       "R                 0\n",
       "H                 0\n",
       "2B                0\n",
       "3B                0\n",
       "HR                0\n",
       "RBI               0\n",
       "SB_x              0\n",
       "CS_x              0\n",
       "BB                0\n",
       "SO                0\n",
       "IBB               0\n",
       "HBP               0\n",
       "SH                0\n",
       "SF                0\n",
       "GIDP              0\n",
       "stint             0\n",
       "G_y               0\n",
       "GS                0\n",
       "InnOuts           0\n",
       "PO                0\n",
       "A                 0\n",
       "E                 0\n",
       "DP                0\n",
       "PB                0\n",
       "SB_y              0\n",
       "CS_y              0\n",
       "salary            0\n",
       "MinSalaries       0\n",
       "adjSalary         0\n",
       "adjMinSalaries    0\n",
       "adjSalary2        0\n",
       "Bavg              0\n",
       "Slug              0\n",
       "OBP               0\n",
       "FPct              0\n",
       "yearID            0\n",
       "playerID          0\n",
       "Primary           0\n",
       "dtype: int64"
      ]
     },
     "execution_count": 3,
     "metadata": {},
     "output_type": "execute_result"
    }
   ],
   "source": [
    "print(playerScale.info())\n",
    "playerScale.isnull().sum()"
   ]
  },
  {
   "cell_type": "code",
   "execution_count": 4,
   "metadata": {
    "collapsed": true
   },
   "outputs": [],
   "source": [
    "#Create Mapping to Positions\n",
    "def format_cat(df):\n",
    "    cat_cols = ['Primary']\n",
    "    for i in cat_cols:\n",
    "        df[i] = df[i].map({'C':2, '1B':3, '2B': 4, '3B':5, 'SS':6, 'OF':7, 'DH':10})\n",
    "\n",
    "format_cat(playerScale)"
   ]
  },
  {
   "cell_type": "code",
   "execution_count": 5,
   "metadata": {},
   "outputs": [
    {
     "name": "stdout",
     "output_type": "stream",
     "text": [
      "<class 'pandas.core.frame.DataFrame'>\n",
      "RangeIndex: 19820 entries, 0 to 19819\n",
      "Data columns (total 40 columns):\n",
      "G_x               19820 non-null float64\n",
      "AB                19820 non-null float64\n",
      "R                 19820 non-null float64\n",
      "H                 19820 non-null float64\n",
      "2B                19820 non-null float64\n",
      "3B                19820 non-null float64\n",
      "HR                19820 non-null float64\n",
      "RBI               19820 non-null float64\n",
      "SB_x              19820 non-null float64\n",
      "CS_x              19820 non-null float64\n",
      "BB                19820 non-null float64\n",
      "SO                19820 non-null float64\n",
      "IBB               19820 non-null float64\n",
      "HBP               19820 non-null float64\n",
      "SH                19820 non-null float64\n",
      "SF                19820 non-null float64\n",
      "GIDP              19820 non-null float64\n",
      "stint             19820 non-null float64\n",
      "G_y               19820 non-null float64\n",
      "GS                19820 non-null float64\n",
      "InnOuts           19820 non-null float64\n",
      "PO                19820 non-null float64\n",
      "A                 19820 non-null float64\n",
      "E                 19820 non-null float64\n",
      "DP                19820 non-null float64\n",
      "PB                19820 non-null float64\n",
      "SB_y              19820 non-null float64\n",
      "CS_y              19820 non-null float64\n",
      "salary            19820 non-null float64\n",
      "MinSalaries       19820 non-null float64\n",
      "adjSalary         19820 non-null float64\n",
      "adjMinSalaries    19820 non-null float64\n",
      "adjSalary2        19820 non-null float64\n",
      "Bavg              19820 non-null float64\n",
      "Slug              19820 non-null float64\n",
      "OBP               19820 non-null float64\n",
      "FPct              19820 non-null float64\n",
      "yearID            19820 non-null int64\n",
      "playerID          19820 non-null object\n",
      "Primary           19820 non-null int64\n",
      "dtypes: float64(37), int64(2), object(1)\n",
      "memory usage: 6.0+ MB\n"
     ]
    }
   ],
   "source": [
    "playerScale.info()"
   ]
  },
  {
   "cell_type": "code",
   "execution_count": 6,
   "metadata": {
    "collapsed": true
   },
   "outputs": [],
   "source": [
    "#Seperate Predicter \n",
    "X = playerScale.drop(['Primary', 'playerID'], axis=1)\n",
    "y = playerScale['Primary'].values\n",
    "yhat = np.empty(y.shape,dtype=str)"
   ]
  },
  {
   "cell_type": "code",
   "execution_count": 7,
   "metadata": {
    "collapsed": true
   },
   "outputs": [],
   "source": [
    "#Get training and test Sets\n",
    "X_train, X_test, y_train, y_test = train_test_split(X, y, test_size=0.2, random_state=42)"
   ]
  },
  {
   "cell_type": "markdown",
   "metadata": {},
   "source": [
    "# Simple XGBoost Model"
   ]
  },
  {
   "cell_type": "code",
   "execution_count": 9,
   "metadata": {
    "scrolled": true
   },
   "outputs": [
    {
     "data": {
      "text/plain": [
       "XGBClassifier(base_score=0.5, booster='gbtree', colsample_bylevel=1,\n",
       "       colsample_bytree=1, gamma=0, learning_rate=0.1, max_delta_step=0,\n",
       "       max_depth=3, min_child_weight=1, missing=None, n_estimators=100,\n",
       "       n_jobs=1, nthread=None, objective='multi:softprob', random_state=0,\n",
       "       reg_alpha=0, reg_lambda=1, scale_pos_weight=1, seed=None,\n",
       "       silent=True, subsample=1)"
      ]
     },
     "execution_count": 9,
     "metadata": {},
     "output_type": "execute_result"
    }
   ],
   "source": [
    "xgbModel = XGBClassifier()\n",
    "xgbModel.fit(X_train, y_train)"
   ]
  },
  {
   "cell_type": "code",
   "execution_count": 10,
   "metadata": {
    "collapsed": true
   },
   "outputs": [],
   "source": [
    "y_pred = xgbModel.predict(X_test)"
   ]
  },
  {
   "cell_type": "code",
   "execution_count": 11,
   "metadata": {},
   "outputs": [
    {
     "name": "stdout",
     "output_type": "stream",
     "text": [
      "The Accuracy of the XGBoost Model: 87.61%\n"
     ]
    }
   ],
   "source": [
    "accuracy = accuracy_score(y_test, y_pred)\n",
    "print(\"The Accuracy of the XGBoost Model: %.2f%%\" % (accuracy * 100.0))"
   ]
  },
  {
   "cell_type": "markdown",
   "metadata": {},
   "source": [
    "# XG Boost Model with Cross Validation"
   ]
  },
  {
   "cell_type": "markdown",
   "metadata": {},
   "source": [
    "### With Cross Validation"
   ]
  },
  {
   "cell_type": "code",
   "execution_count": 17,
   "metadata": {},
   "outputs": [
    {
     "name": "stdout",
     "output_type": "stream",
     "text": [
      "Fitting 5 folds for each of 15 candidates, totalling 75 fits\n"
     ]
    },
    {
     "name": "stderr",
     "output_type": "stream",
     "text": [
      "[Parallel(n_jobs=1)]: Done  75 out of  75 | elapsed: 11.1min finished\n"
     ]
    },
    {
     "name": "stdout",
     "output_type": "stream",
     "text": [
      "Lowest RMSE found:  0.949646796858\n",
      "Root mean square error for test dataset: 0.61\n"
     ]
    }
   ],
   "source": [
    "gbm_param_grid = {\n",
    "     'colsample_bytree': np.linspace(0.5, 0.9, 5),\n",
    "     'n_estimators':[100],\n",
    "     'max_depth': [10, 15, 20]\n",
    "}\n",
    "\n",
    "gbm = xgb.XGBRegressor()\n",
    "gbm_mse = GridSearchCV(estimator = gbm, param_grid = gbm_param_grid, cv = 5, verbose = 1)\n",
    "gbm_mse.fit(X_train, y_train)\n",
    "print(\"Lowest RMSE found: \", np.sqrt(np.abs(gbm_mse.best_score_)))\n",
    "\n",
    "pred = gbm_mse.predict(X_test)\n",
    "print(\"Root mean square error for test dataset: {}\".format(np.round(np.sqrt(mean_squared_error(y_test, pred)), 2)))\n"
   ]
  },
  {
   "cell_type": "code",
   "execution_count": 30,
   "metadata": {},
   "outputs": [
    {
     "name": "stderr",
     "output_type": "stream",
     "text": [
      "/Users/patriciagoresen/anaconda3/lib/python3.6/site-packages/sklearn/model_selection/_search.py:761: DeprecationWarning: The grid_scores_ attribute was deprecated in version 0.18 in favor of the more elaborate cv_results_ attribute. The grid_scores_ attribute will not be available from 0.20\n",
      "  DeprecationWarning)\n"
     ]
    },
    {
     "data": {
      "text/plain": [
       "[mean: 0.89919, std: 0.00149, params: {'colsample_bytree': 0.5, 'max_depth': 10, 'n_estimators': 100},\n",
       " mean: 0.89162, std: 0.00177, params: {'colsample_bytree': 0.5, 'max_depth': 15, 'n_estimators': 100},\n",
       " mean: 0.88774, std: 0.00279, params: {'colsample_bytree': 0.5, 'max_depth': 20, 'n_estimators': 100},\n",
       " mean: 0.90052, std: 0.00320, params: {'colsample_bytree': 0.59999999999999998, 'max_depth': 10, 'n_estimators': 100},\n",
       " mean: 0.89578, std: 0.00398, params: {'colsample_bytree': 0.59999999999999998, 'max_depth': 15, 'n_estimators': 100},\n",
       " mean: 0.89388, std: 0.00329, params: {'colsample_bytree': 0.59999999999999998, 'max_depth': 20, 'n_estimators': 100},\n",
       " mean: 0.90155, std: 0.00181, params: {'colsample_bytree': 0.69999999999999996, 'max_depth': 10, 'n_estimators': 100},\n",
       " mean: 0.89922, std: 0.00303, params: {'colsample_bytree': 0.69999999999999996, 'max_depth': 15, 'n_estimators': 100},\n",
       " mean: 0.89688, std: 0.00254, params: {'colsample_bytree': 0.69999999999999996, 'max_depth': 20, 'n_estimators': 100},\n",
       " mean: 0.90143, std: 0.00365, params: {'colsample_bytree': 0.80000000000000004, 'max_depth': 10, 'n_estimators': 100},\n",
       " mean: 0.90036, std: 0.00346, params: {'colsample_bytree': 0.80000000000000004, 'max_depth': 15, 'n_estimators': 100},\n",
       " mean: 0.89896, std: 0.00410, params: {'colsample_bytree': 0.80000000000000004, 'max_depth': 20, 'n_estimators': 100},\n",
       " mean: 0.90183, std: 0.00358, params: {'colsample_bytree': 0.90000000000000002, 'max_depth': 10, 'n_estimators': 100},\n",
       " mean: 0.89999, std: 0.00339, params: {'colsample_bytree': 0.90000000000000002, 'max_depth': 15, 'n_estimators': 100},\n",
       " mean: 0.89809, std: 0.00329, params: {'colsample_bytree': 0.90000000000000002, 'max_depth': 20, 'n_estimators': 100}]"
      ]
     },
     "execution_count": 30,
     "metadata": {},
     "output_type": "execute_result"
    }
   ],
   "source": [
    "gbm_mse.grid_scores_"
   ]
  },
  {
   "cell_type": "markdown",
   "metadata": {},
   "source": [
    "### Optimizing Accuracy"
   ]
  },
  {
   "cell_type": "code",
   "execution_count": 21,
   "metadata": {},
   "outputs": [
    {
     "name": "stdout",
     "output_type": "stream",
     "text": [
      "Lowest RMSE found:  0.942868500419\n"
     ]
    },
    {
     "name": "stderr",
     "output_type": "stream",
     "text": [
      "/Users/patriciagoresen/anaconda3/lib/python3.6/site-packages/sklearn/utils/deprecation.py:122: FutureWarning: You are accessing a training score ('mean_train_score'), which will not be available by default any more in 0.21. If you need training scores, please set return_train_score=True\n",
      "  warnings.warn(*warn_args, **warn_kwargs)\n",
      "/Users/patriciagoresen/anaconda3/lib/python3.6/site-packages/sklearn/utils/deprecation.py:122: FutureWarning: You are accessing a training score ('split0_train_score'), which will not be available by default any more in 0.21. If you need training scores, please set return_train_score=True\n",
      "  warnings.warn(*warn_args, **warn_kwargs)\n",
      "/Users/patriciagoresen/anaconda3/lib/python3.6/site-packages/sklearn/utils/deprecation.py:122: FutureWarning: You are accessing a training score ('split1_train_score'), which will not be available by default any more in 0.21. If you need training scores, please set return_train_score=True\n",
      "  warnings.warn(*warn_args, **warn_kwargs)\n",
      "/Users/patriciagoresen/anaconda3/lib/python3.6/site-packages/sklearn/utils/deprecation.py:122: FutureWarning: You are accessing a training score ('split2_train_score'), which will not be available by default any more in 0.21. If you need training scores, please set return_train_score=True\n",
      "  warnings.warn(*warn_args, **warn_kwargs)\n",
      "/Users/patriciagoresen/anaconda3/lib/python3.6/site-packages/sklearn/utils/deprecation.py:122: FutureWarning: You are accessing a training score ('split3_train_score'), which will not be available by default any more in 0.21. If you need training scores, please set return_train_score=True\n",
      "  warnings.warn(*warn_args, **warn_kwargs)\n",
      "/Users/patriciagoresen/anaconda3/lib/python3.6/site-packages/sklearn/utils/deprecation.py:122: FutureWarning: You are accessing a training score ('split4_train_score'), which will not be available by default any more in 0.21. If you need training scores, please set return_train_score=True\n",
      "  warnings.warn(*warn_args, **warn_kwargs)\n",
      "/Users/patriciagoresen/anaconda3/lib/python3.6/site-packages/sklearn/utils/deprecation.py:122: FutureWarning: You are accessing a training score ('std_train_score'), which will not be available by default any more in 0.21. If you need training scores, please set return_train_score=True\n",
      "  warnings.warn(*warn_args, **warn_kwargs)\n"
     ]
    },
    {
     "data": {
      "text/plain": [
       "{'mean_fit_time': array([ 105.16629562,  159.56041799,  176.3811502 ]),\n",
       " 'mean_score_time': array([ 1.74261189,  2.3094954 ,  2.39035378]),\n",
       " 'mean_test_score': array([ 0.88893794,  0.88900101,  0.88799193]),\n",
       " 'mean_train_score': array([ 0.97608164,  1.        ,  1.        ]),\n",
       " 'param_max_depth': masked_array(data = [3 5 7],\n",
       "              mask = [False False False],\n",
       "        fill_value = ?),\n",
       " 'params': [{'max_depth': 3}, {'max_depth': 5}, {'max_depth': 7}],\n",
       " 'rank_test_score': array([2, 1, 3], dtype=int32),\n",
       " 'split0_test_score': array([ 0.88755906,  0.8888189 ,  0.88661417]),\n",
       " 'split0_train_score': array([ 0.97579055,  1.        ,  1.        ]),\n",
       " 'split1_test_score': array([ 0.88965952,  0.88965952,  0.89281211]),\n",
       " 'split1_train_score': array([ 0.97713655,  1.        ,  1.        ]),\n",
       " 'split2_test_score': array([ 0.88832808,  0.89022082,  0.88864353]),\n",
       " 'split2_train_score': array([ 0.97595775,  1.        ,  1.        ]),\n",
       " 'split3_test_score': array([ 0.88580442,  0.88233438,  0.88233438]),\n",
       " 'split3_train_score': array([ 0.97658837,  1.        ,  1.        ]),\n",
       " 'split4_test_score': array([ 0.89334175,  0.89397286,  0.88955506]),\n",
       " 'split4_train_score': array([ 0.97493497,  1.        ,  1.        ]),\n",
       " 'std_fit_time': array([  0.31989847,   2.84724417,  23.04385445]),\n",
       " 'std_score_time': array([ 0.16315107,  0.47193699,  0.85449152]),\n",
       " 'std_test_score': array([ 0.00252949,  0.00377051,  0.00346417]),\n",
       " 'std_train_score': array([ 0.00074626,  0.        ,  0.        ])}"
      ]
     },
     "execution_count": 21,
     "metadata": {},
     "output_type": "execute_result"
    }
   ],
   "source": [
    "cv_params = {'max_depth': [3,5,7]}\n",
    "\n",
    "ind_params = {'learning_rate': 0.1, 'n_estimators': 500, 'seed':0, 'subsample': 0.8, 'colsample_bytree': 0.8, \n",
    "             'objective': 'binary:logistic'}\n",
    "accuracy_gbm = GridSearchCV(xgb.XGBClassifier(**ind_params), \n",
    "                            cv_params, \n",
    "                             scoring = 'accuracy', cv = 5, n_jobs = -1)\n",
    "\n",
    "accuracy_gbm.fit(X_train, y_train)\n",
    "\n",
    "pred = accuracy_gbm.predict(X_test)\n",
    "\n",
    "print(\"Lowest RMSE found: \", np.sqrt(np.abs(accuracy_gbm.best_score_)))"
   ]
  },
  {
   "cell_type": "code",
   "execution_count": 29,
   "metadata": {},
   "outputs": [
    {
     "name": "stderr",
     "output_type": "stream",
     "text": [
      "/Users/patriciagoresen/anaconda3/lib/python3.6/site-packages/sklearn/model_selection/_search.py:761: DeprecationWarning: The grid_scores_ attribute was deprecated in version 0.18 in favor of the more elaborate cv_results_ attribute. The grid_scores_ attribute will not be available from 0.20\n",
      "  DeprecationWarning)\n"
     ]
    },
    {
     "data": {
      "text/plain": [
       "[mean: 0.88894, std: 0.00253, params: {'max_depth': 3},\n",
       " mean: 0.88900, std: 0.00377, params: {'max_depth': 5},\n",
       " mean: 0.88799, std: 0.00346, params: {'max_depth': 7}]"
      ]
     },
     "execution_count": 29,
     "metadata": {},
     "output_type": "execute_result"
    }
   ],
   "source": [
    "accuracy_gbm.grid_scores_\n"
   ]
  },
  {
   "cell_type": "code",
   "execution_count": 28,
   "metadata": {},
   "outputs": [
    {
     "ename": "ValueError",
     "evalue": "tree must be Booster, XGBModel or dict instance",
     "output_type": "error",
     "traceback": [
      "\u001b[0;31m---------------------------------------------------------------------------\u001b[0m",
      "\u001b[0;31mValueError\u001b[0m                                Traceback (most recent call last)",
      "\u001b[0;32m<ipython-input-28-2455821df824>\u001b[0m in \u001b[0;36m<module>\u001b[0;34m()\u001b[0m\n\u001b[1;32m      1\u001b[0m \u001b[0;32mfrom\u001b[0m \u001b[0mxgboost\u001b[0m \u001b[0;32mimport\u001b[0m \u001b[0mplot_importance\u001b[0m\u001b[0;34m\u001b[0m\u001b[0m\n\u001b[0;32m----> 2\u001b[0;31m \u001b[0mplot_importance\u001b[0m\u001b[0;34m(\u001b[0m\u001b[0maccuracy_gbm\u001b[0m\u001b[0;34m,\u001b[0m \u001b[0;34m)\u001b[0m\u001b[0;34m\u001b[0m\u001b[0m\n\u001b[0m",
      "\u001b[0;32m~/anaconda3/lib/python3.6/site-packages/xgboost/plotting.py\u001b[0m in \u001b[0;36mplot_importance\u001b[0;34m(booster, ax, height, xlim, ylim, title, xlabel, ylabel, importance_type, max_num_features, grid, show_values, **kwargs)\u001b[0m\n\u001b[1;32m     69\u001b[0m         \u001b[0mimportance\u001b[0m \u001b[0;34m=\u001b[0m \u001b[0mbooster\u001b[0m\u001b[0;34m\u001b[0m\u001b[0m\n\u001b[1;32m     70\u001b[0m     \u001b[0;32melse\u001b[0m\u001b[0;34m:\u001b[0m\u001b[0;34m\u001b[0m\u001b[0m\n\u001b[0;32m---> 71\u001b[0;31m         \u001b[0;32mraise\u001b[0m \u001b[0mValueError\u001b[0m\u001b[0;34m(\u001b[0m\u001b[0;34m'tree must be Booster, XGBModel or dict instance'\u001b[0m\u001b[0;34m)\u001b[0m\u001b[0;34m\u001b[0m\u001b[0m\n\u001b[0m\u001b[1;32m     72\u001b[0m \u001b[0;34m\u001b[0m\u001b[0m\n\u001b[1;32m     73\u001b[0m     \u001b[0;32mif\u001b[0m \u001b[0mlen\u001b[0m\u001b[0;34m(\u001b[0m\u001b[0mimportance\u001b[0m\u001b[0;34m)\u001b[0m \u001b[0;34m==\u001b[0m \u001b[0;36m0\u001b[0m\u001b[0;34m:\u001b[0m\u001b[0;34m\u001b[0m\u001b[0m\n",
      "\u001b[0;31mValueError\u001b[0m: tree must be Booster, XGBModel or dict instance"
     ]
    }
   ],
   "source": [
    "from xgboost import plot_importance\n",
    "plot_importance(accuracy_gbm, )"
   ]
  },
  {
   "cell_type": "code",
   "execution_count": 31,
   "metadata": {},
   "outputs": [
    {
     "ename": "XGBoostError",
     "evalue": "b'[15:08:57] src/objective/regression_obj.cc:98: Check failed: Loss::CheckLabel(y) label must be in [0,1] for logistic regression\\n\\nStack trace returned 8 entries:\\n[bt] (0) 0   libxgboost.dylib                    0x0000000109d1d0e0 dmlc::StackTrace() + 288\\n[bt] (1) 1   libxgboost.dylib                    0x0000000109d1ce7f dmlc::LogMessageFatal::~LogMessageFatal() + 47\\n[bt] (2) 2   libxgboost.dylib                    0x0000000109d9b46b xgboost::obj::RegLossObj<xgboost::obj::LogisticClassification>::LazyCheckLabels(std::__1::vector<float, std::__1::allocator<float> > const&) + 235\\n[bt] (3) 3   libxgboost.dylib                    0x0000000109d9aa4c xgboost::obj::RegLossObj<xgboost::obj::LogisticClassification>::GetGradient(xgboost::HostDeviceVector<float>*, xgboost::MetaInfo const&, int, xgboost::HostDeviceVector<xgboost::detail::GradientPairInternal<float> >*) + 668\\n[bt] (4) 4   libxgboost.dylib                    0x0000000109d19239 xgboost::LearnerImpl::UpdateOneIter(int, xgboost::DMatrix*) + 1017\\n[bt] (5) 5   libxgboost.dylib                    0x0000000109d33b47 XGBoosterUpdateOneIter + 87\\n[bt] (6) 6   libffi.6.dylib                      0x00000001045d3884 ffi_call_unix64 + 76\\n[bt] (7) 7   ???                                 0x00007ffeecd49250 0x0 + 140732871774800\\n\\n'",
     "output_type": "error",
     "traceback": [
      "\u001b[0;31m---------------------------------------------------------------------------\u001b[0m",
      "\u001b[0;31mXGBoostError\u001b[0m                              Traceback (most recent call last)",
      "\u001b[0;32m<ipython-input-31-8620b17f1e6b>\u001b[0m in \u001b[0;36m<module>\u001b[0;34m()\u001b[0m\n\u001b[1;32m      1\u001b[0m \u001b[0mxgdmat\u001b[0m \u001b[0;34m=\u001b[0m \u001b[0mxgb\u001b[0m\u001b[0;34m.\u001b[0m\u001b[0mDMatrix\u001b[0m\u001b[0;34m(\u001b[0m\u001b[0mX_train\u001b[0m\u001b[0;34m,\u001b[0m \u001b[0my_train\u001b[0m\u001b[0;34m)\u001b[0m\u001b[0;34m\u001b[0m\u001b[0m\n\u001b[0;32m----> 2\u001b[0;31m \u001b[0mfinal_gb\u001b[0m \u001b[0;34m=\u001b[0m \u001b[0mxgb\u001b[0m\u001b[0;34m.\u001b[0m\u001b[0mtrain\u001b[0m\u001b[0;34m(\u001b[0m\u001b[0mind_params\u001b[0m\u001b[0;34m,\u001b[0m \u001b[0mxgdmat\u001b[0m\u001b[0;34m,\u001b[0m \u001b[0mnum_boost_round\u001b[0m \u001b[0;34m=\u001b[0m \u001b[0;36m432\u001b[0m\u001b[0;34m)\u001b[0m\u001b[0;34m\u001b[0m\u001b[0m\n\u001b[0m\u001b[1;32m      3\u001b[0m \u001b[0mxgb\u001b[0m\u001b[0;34m.\u001b[0m\u001b[0mplot_importance\u001b[0m\u001b[0;34m(\u001b[0m\u001b[0mfinal_gb\u001b[0m\u001b[0;34m)\u001b[0m\u001b[0;34m\u001b[0m\u001b[0m\n",
      "\u001b[0;32m~/anaconda3/lib/python3.6/site-packages/xgboost/training.py\u001b[0m in \u001b[0;36mtrain\u001b[0;34m(params, dtrain, num_boost_round, evals, obj, feval, maximize, early_stopping_rounds, evals_result, verbose_eval, xgb_model, callbacks, learning_rates)\u001b[0m\n\u001b[1;32m    202\u001b[0m                            \u001b[0mevals\u001b[0m\u001b[0;34m=\u001b[0m\u001b[0mevals\u001b[0m\u001b[0;34m,\u001b[0m\u001b[0;34m\u001b[0m\u001b[0m\n\u001b[1;32m    203\u001b[0m                            \u001b[0mobj\u001b[0m\u001b[0;34m=\u001b[0m\u001b[0mobj\u001b[0m\u001b[0;34m,\u001b[0m \u001b[0mfeval\u001b[0m\u001b[0;34m=\u001b[0m\u001b[0mfeval\u001b[0m\u001b[0;34m,\u001b[0m\u001b[0;34m\u001b[0m\u001b[0m\n\u001b[0;32m--> 204\u001b[0;31m                            xgb_model=xgb_model, callbacks=callbacks)\n\u001b[0m\u001b[1;32m    205\u001b[0m \u001b[0;34m\u001b[0m\u001b[0m\n\u001b[1;32m    206\u001b[0m \u001b[0;34m\u001b[0m\u001b[0m\n",
      "\u001b[0;32m~/anaconda3/lib/python3.6/site-packages/xgboost/training.py\u001b[0m in \u001b[0;36m_train_internal\u001b[0;34m(params, dtrain, num_boost_round, evals, obj, feval, xgb_model, callbacks)\u001b[0m\n\u001b[1;32m     72\u001b[0m         \u001b[0;31m# Skip the first update if it is a recovery step.\u001b[0m\u001b[0;34m\u001b[0m\u001b[0;34m\u001b[0m\u001b[0m\n\u001b[1;32m     73\u001b[0m         \u001b[0;32mif\u001b[0m \u001b[0mversion\u001b[0m \u001b[0;34m%\u001b[0m \u001b[0;36m2\u001b[0m \u001b[0;34m==\u001b[0m \u001b[0;36m0\u001b[0m\u001b[0;34m:\u001b[0m\u001b[0;34m\u001b[0m\u001b[0m\n\u001b[0;32m---> 74\u001b[0;31m             \u001b[0mbst\u001b[0m\u001b[0;34m.\u001b[0m\u001b[0mupdate\u001b[0m\u001b[0;34m(\u001b[0m\u001b[0mdtrain\u001b[0m\u001b[0;34m,\u001b[0m \u001b[0mi\u001b[0m\u001b[0;34m,\u001b[0m \u001b[0mobj\u001b[0m\u001b[0;34m)\u001b[0m\u001b[0;34m\u001b[0m\u001b[0m\n\u001b[0m\u001b[1;32m     75\u001b[0m             \u001b[0mbst\u001b[0m\u001b[0;34m.\u001b[0m\u001b[0msave_rabit_checkpoint\u001b[0m\u001b[0;34m(\u001b[0m\u001b[0;34m)\u001b[0m\u001b[0;34m\u001b[0m\u001b[0m\n\u001b[1;32m     76\u001b[0m             \u001b[0mversion\u001b[0m \u001b[0;34m+=\u001b[0m \u001b[0;36m1\u001b[0m\u001b[0;34m\u001b[0m\u001b[0m\n",
      "\u001b[0;32m~/anaconda3/lib/python3.6/site-packages/xgboost/core.py\u001b[0m in \u001b[0;36mupdate\u001b[0;34m(self, dtrain, iteration, fobj)\u001b[0m\n\u001b[1;32m    892\u001b[0m         \u001b[0;32mif\u001b[0m \u001b[0mfobj\u001b[0m \u001b[0;32mis\u001b[0m \u001b[0;32mNone\u001b[0m\u001b[0;34m:\u001b[0m\u001b[0;34m\u001b[0m\u001b[0m\n\u001b[1;32m    893\u001b[0m             _check_call(_LIB.XGBoosterUpdateOneIter(self.handle, ctypes.c_int(iteration),\n\u001b[0;32m--> 894\u001b[0;31m                                                     dtrain.handle))\n\u001b[0m\u001b[1;32m    895\u001b[0m         \u001b[0;32melse\u001b[0m\u001b[0;34m:\u001b[0m\u001b[0;34m\u001b[0m\u001b[0m\n\u001b[1;32m    896\u001b[0m             \u001b[0mpred\u001b[0m \u001b[0;34m=\u001b[0m \u001b[0mself\u001b[0m\u001b[0;34m.\u001b[0m\u001b[0mpredict\u001b[0m\u001b[0;34m(\u001b[0m\u001b[0mdtrain\u001b[0m\u001b[0;34m)\u001b[0m\u001b[0;34m\u001b[0m\u001b[0m\n",
      "\u001b[0;32m~/anaconda3/lib/python3.6/site-packages/xgboost/core.py\u001b[0m in \u001b[0;36m_check_call\u001b[0;34m(ret)\u001b[0m\n\u001b[1;32m    128\u001b[0m     \"\"\"\n\u001b[1;32m    129\u001b[0m     \u001b[0;32mif\u001b[0m \u001b[0mret\u001b[0m \u001b[0;34m!=\u001b[0m \u001b[0;36m0\u001b[0m\u001b[0;34m:\u001b[0m\u001b[0;34m\u001b[0m\u001b[0m\n\u001b[0;32m--> 130\u001b[0;31m         \u001b[0;32mraise\u001b[0m \u001b[0mXGBoostError\u001b[0m\u001b[0;34m(\u001b[0m\u001b[0m_LIB\u001b[0m\u001b[0;34m.\u001b[0m\u001b[0mXGBGetLastError\u001b[0m\u001b[0;34m(\u001b[0m\u001b[0;34m)\u001b[0m\u001b[0;34m)\u001b[0m\u001b[0;34m\u001b[0m\u001b[0m\n\u001b[0m\u001b[1;32m    131\u001b[0m \u001b[0;34m\u001b[0m\u001b[0m\n\u001b[1;32m    132\u001b[0m \u001b[0;34m\u001b[0m\u001b[0m\n",
      "\u001b[0;31mXGBoostError\u001b[0m: b'[15:08:57] src/objective/regression_obj.cc:98: Check failed: Loss::CheckLabel(y) label must be in [0,1] for logistic regression\\n\\nStack trace returned 8 entries:\\n[bt] (0) 0   libxgboost.dylib                    0x0000000109d1d0e0 dmlc::StackTrace() + 288\\n[bt] (1) 1   libxgboost.dylib                    0x0000000109d1ce7f dmlc::LogMessageFatal::~LogMessageFatal() + 47\\n[bt] (2) 2   libxgboost.dylib                    0x0000000109d9b46b xgboost::obj::RegLossObj<xgboost::obj::LogisticClassification>::LazyCheckLabels(std::__1::vector<float, std::__1::allocator<float> > const&) + 235\\n[bt] (3) 3   libxgboost.dylib                    0x0000000109d9aa4c xgboost::obj::RegLossObj<xgboost::obj::LogisticClassification>::GetGradient(xgboost::HostDeviceVector<float>*, xgboost::MetaInfo const&, int, xgboost::HostDeviceVector<xgboost::detail::GradientPairInternal<float> >*) + 668\\n[bt] (4) 4   libxgboost.dylib                    0x0000000109d19239 xgboost::LearnerImpl::UpdateOneIter(int, xgboost::DMatrix*) + 1017\\n[bt] (5) 5   libxgboost.dylib                    0x0000000109d33b47 XGBoosterUpdateOneIter + 87\\n[bt] (6) 6   libffi.6.dylib                      0x00000001045d3884 ffi_call_unix64 + 76\\n[bt] (7) 7   ???                                 0x00007ffeecd49250 0x0 + 140732871774800\\n\\n'"
     ]
    }
   ],
   "source": [
    "xgdmat = xgb.DMatrix(X_train, y_train)\n",
    "final_gb = xgb.train(ind_params, xgdmat, num_boost_round = 432)\n",
    "xgb.plot_importance(final_gb)"
   ]
  },
  {
   "cell_type": "code",
   "execution_count": 40,
   "metadata": {},
   "outputs": [
    {
     "ename": "AttributeError",
     "evalue": "'GridSearchCV' object has no attribute 'booster'",
     "output_type": "error",
     "traceback": [
      "\u001b[0;31m---------------------------------------------------------------------------\u001b[0m",
      "\u001b[0;31mAttributeError\u001b[0m                            Traceback (most recent call last)",
      "\u001b[0;32m<ipython-input-40-5572345f2030>\u001b[0m in \u001b[0;36m<module>\u001b[0;34m()\u001b[0m\n\u001b[1;32m      9\u001b[0m \u001b[0;34m\u001b[0m\u001b[0m\n\u001b[1;32m     10\u001b[0m \u001b[0;34m\u001b[0m\u001b[0m\n\u001b[0;32m---> 11\u001b[0;31m \u001b[0mget_xgb_imp\u001b[0m\u001b[0;34m(\u001b[0m\u001b[0maccuracy_gbm\u001b[0m\u001b[0;34m,\u001b[0m \u001b[0mfeat_names\u001b[0m\u001b[0;34m)\u001b[0m\u001b[0;34m\u001b[0m\u001b[0m\n\u001b[0m",
      "\u001b[0;32m<ipython-input-40-5572345f2030>\u001b[0m in \u001b[0;36mget_xgb_imp\u001b[0;34m(xgb, feat_names)\u001b[0m\n\u001b[1;32m      1\u001b[0m \u001b[0;32mdef\u001b[0m \u001b[0mget_xgb_imp\u001b[0m\u001b[0;34m(\u001b[0m\u001b[0mxgb\u001b[0m\u001b[0;34m,\u001b[0m \u001b[0mfeat_names\u001b[0m\u001b[0;34m)\u001b[0m\u001b[0;34m:\u001b[0m\u001b[0;34m\u001b[0m\u001b[0m\n\u001b[1;32m      2\u001b[0m     \u001b[0;32mfrom\u001b[0m \u001b[0mnumpy\u001b[0m \u001b[0;32mimport\u001b[0m \u001b[0marray\u001b[0m\u001b[0;34m\u001b[0m\u001b[0m\n\u001b[0;32m----> 3\u001b[0;31m     \u001b[0mimp_vals\u001b[0m \u001b[0;34m=\u001b[0m \u001b[0mxgb\u001b[0m\u001b[0;34m.\u001b[0m\u001b[0mbooster\u001b[0m\u001b[0;34m(\u001b[0m\u001b[0;34m)\u001b[0m\u001b[0;34m.\u001b[0m\u001b[0mget_fscore\u001b[0m\u001b[0;34m(\u001b[0m\u001b[0;34m)\u001b[0m\u001b[0;34m\u001b[0m\u001b[0m\n\u001b[0m\u001b[1;32m      4\u001b[0m     \u001b[0mimp_dict\u001b[0m \u001b[0;34m=\u001b[0m \u001b[0;34m{\u001b[0m\u001b[0mfeat_names\u001b[0m\u001b[0;34m[\u001b[0m\u001b[0mi\u001b[0m\u001b[0;34m]\u001b[0m\u001b[0;34m:\u001b[0m\u001b[0mfloat\u001b[0m\u001b[0;34m(\u001b[0m\u001b[0mimp_vals\u001b[0m\u001b[0;34m.\u001b[0m\u001b[0mget\u001b[0m\u001b[0;34m(\u001b[0m\u001b[0;34m'f'\u001b[0m\u001b[0;34m+\u001b[0m\u001b[0mstr\u001b[0m\u001b[0;34m(\u001b[0m\u001b[0mi\u001b[0m\u001b[0;34m)\u001b[0m\u001b[0;34m,\u001b[0m\u001b[0;36m0.\u001b[0m\u001b[0;34m)\u001b[0m\u001b[0;34m)\u001b[0m \u001b[0;32mfor\u001b[0m \u001b[0mi\u001b[0m \u001b[0;32min\u001b[0m \u001b[0mrange\u001b[0m\u001b[0;34m(\u001b[0m\u001b[0mlen\u001b[0m\u001b[0;34m(\u001b[0m\u001b[0mfeat_names\u001b[0m\u001b[0;34m)\u001b[0m\u001b[0;34m)\u001b[0m\u001b[0;34m}\u001b[0m\u001b[0;34m\u001b[0m\u001b[0m\n\u001b[1;32m      5\u001b[0m     \u001b[0mtotal\u001b[0m \u001b[0;34m=\u001b[0m \u001b[0marray\u001b[0m\u001b[0;34m(\u001b[0m\u001b[0mimp_dict\u001b[0m\u001b[0;34m.\u001b[0m\u001b[0mvalues\u001b[0m\u001b[0;34m(\u001b[0m\u001b[0;34m)\u001b[0m\u001b[0;34m)\u001b[0m\u001b[0;34m.\u001b[0m\u001b[0msum\u001b[0m\u001b[0;34m(\u001b[0m\u001b[0;34m)\u001b[0m\u001b[0;34m\u001b[0m\u001b[0m\n",
      "\u001b[0;31mAttributeError\u001b[0m: 'GridSearchCV' object has no attribute 'booster'"
     ]
    }
   ],
   "source": [
    "def get_xgb_imp(xgb, feat_names):\n",
    "    from numpy import array\n",
    "    imp_vals = xgb.booster().get_fscore()\n",
    "    imp_dict = {feat_names[i]:float(imp_vals.get('f'+str(i),0.)) for i in range(len(feat_names))}\n",
    "    total = array(imp_dict.values()).sum()\n",
    "    return {k:v/total for k,v in imp_dict.items()}\n",
    "\n",
    "feat_names = ['G_x' , 'AB' ,'R', 'H','2B','3B' ,'HR' ,'RBI' ,'SB_x', 'CS_x','BB' ,'SO' ,'IBB' ,'HBP','SH' ,'SF' ,'GIDP' ,'stint','G_y' ,'GS' ,'InnOuts','PO' ,'A' ,'E' ,'DP' ,'PB' ,'SB_y' ,'CS_y'  ,'salary' ,'MinSalaries' ,'adjSalary' ,'adjMinSalaries','adjSalary2','Bavg' ,'Slug' , 'OBP','FPct' ,'yearID' ]\n",
    "\n",
    "\n",
    "get_xgb_imp(accuracy_gbm, feat_names)"
   ]
  },
  {
   "cell_type": "code",
   "execution_count": null,
   "metadata": {
    "collapsed": true
   },
   "outputs": [],
   "source": []
  }
 ],
 "metadata": {
  "kernelspec": {
   "display_name": "Python 3",
   "language": "python",
   "name": "python3"
  },
  "language_info": {
   "codemirror_mode": {
    "name": "ipython",
    "version": 3
   },
   "file_extension": ".py",
   "mimetype": "text/x-python",
   "name": "python",
   "nbconvert_exporter": "python",
   "pygments_lexer": "ipython3",
   "version": "3.6.3"
  }
 },
 "nbformat": 4,
 "nbformat_minor": 2
}
