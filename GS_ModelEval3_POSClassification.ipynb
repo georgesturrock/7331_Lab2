{
 "cells": [
  {
   "cell_type": "markdown",
   "metadata": {},
   "source": [
    "## Model and Evaluation 3"
   ]
  },
  {
   "cell_type": "code",
   "execution_count": 1,
   "metadata": {},
   "outputs": [],
   "source": [
    "import pandas as pd\n",
    "import numpy as np\n",
    "import seaborn as sns\n",
    "import yellowbrick as yb\n",
    "from matplotlib import pyplot as plt\n",
    "\n",
    "import warnings\n",
    "warnings.filterwarnings('ignore')\n",
    "\n",
    "player = pd.read_csv('~/7331_Lab2/data/player.csv')\n",
    "playerNoSal = pd.read_csv('~/7331_Lab2/data/playerNoSal.csv')\n",
    "playerScale = pd.read_csv('~/7331_Lab2/data/playerscale.csv')\n",
    "playerNoSalScale = pd.read_csv('~/7331_Lab2/data/playerNoSalscale.csv')"
   ]
  },
  {
   "cell_type": "code",
   "execution_count": 2,
   "metadata": {},
   "outputs": [
    {
     "name": "stdout",
     "output_type": "stream",
     "text": [
      "<class 'pandas.core.frame.DataFrame'>\n",
      "RangeIndex: 19820 entries, 0 to 19819\n",
      "Data columns (total 43 columns):\n",
      "yearID                 19820 non-null int64\n",
      "playerID               19820 non-null object\n",
      "G_x                    19820 non-null int64\n",
      "AB                     19820 non-null int64\n",
      "R                      19820 non-null int64\n",
      "H                      19820 non-null int64\n",
      "2B                     19820 non-null int64\n",
      "3B                     19820 non-null int64\n",
      "HR                     19820 non-null int64\n",
      "RBI                    19820 non-null float64\n",
      "SB_x                   19820 non-null float64\n",
      "CS_x                   19820 non-null float64\n",
      "BB                     19820 non-null int64\n",
      "SO                     19820 non-null float64\n",
      "IBB                    19820 non-null float64\n",
      "HBP                    19820 non-null float64\n",
      "SH                     19820 non-null float64\n",
      "SF                     19820 non-null float64\n",
      "GIDP                   19820 non-null float64\n",
      "stint                  19820 non-null float64\n",
      "G_y                    19820 non-null float64\n",
      "GS                     19820 non-null float64\n",
      "InnOuts                19820 non-null float64\n",
      "PO                     19820 non-null float64\n",
      "A                      19820 non-null float64\n",
      "E                      19820 non-null float64\n",
      "DP                     19820 non-null float64\n",
      "PB                     19820 non-null float64\n",
      "SB_y                   19820 non-null float64\n",
      "CS_y                   19820 non-null float64\n",
      "Primary                19820 non-null object\n",
      "salary                 19820 non-null float64\n",
      "Annual Average         19820 non-null float64\n",
      "AnnualPercentChange    19820 non-null object\n",
      "Mult2017               19820 non-null float64\n",
      "MinSalaries            19820 non-null float64\n",
      "adjSalary              19820 non-null float64\n",
      "adjMinSalaries         19820 non-null float64\n",
      "adjSalary2             19820 non-null float64\n",
      "Bavg                   19820 non-null float64\n",
      "Slug                   19820 non-null float64\n",
      "OBP                    19820 non-null float64\n",
      "FPct                   19820 non-null float64\n",
      "dtypes: float64(31), int64(9), object(3)\n",
      "memory usage: 6.5+ MB\n",
      "None\n",
      "<class 'pandas.core.frame.DataFrame'>\n",
      "RangeIndex: 13682 entries, 0 to 13681\n",
      "Data columns (total 43 columns):\n",
      "yearID                 13682 non-null int64\n",
      "playerID               13682 non-null object\n",
      "G_x                    13682 non-null int64\n",
      "AB                     13682 non-null int64\n",
      "R                      13682 non-null int64\n",
      "H                      13682 non-null int64\n",
      "2B                     13682 non-null int64\n",
      "3B                     13682 non-null int64\n",
      "HR                     13682 non-null int64\n",
      "RBI                    13682 non-null float64\n",
      "SB_x                   13682 non-null float64\n",
      "CS_x                   13682 non-null float64\n",
      "BB                     13682 non-null int64\n",
      "SO                     13682 non-null float64\n",
      "IBB                    13682 non-null float64\n",
      "HBP                    13682 non-null float64\n",
      "SH                     13682 non-null float64\n",
      "SF                     13682 non-null float64\n",
      "GIDP                   13682 non-null float64\n",
      "stint                  13682 non-null float64\n",
      "G_y                    13682 non-null float64\n",
      "GS                     13682 non-null float64\n",
      "InnOuts                13682 non-null float64\n",
      "PO                     13682 non-null float64\n",
      "A                      13682 non-null float64\n",
      "E                      13682 non-null float64\n",
      "DP                     13682 non-null float64\n",
      "PB                     13682 non-null float64\n",
      "SB_y                   13682 non-null float64\n",
      "CS_y                   13682 non-null float64\n",
      "Primary                13682 non-null object\n",
      "salary                 13682 non-null float64\n",
      "Annual Average         13682 non-null float64\n",
      "AnnualPercentChange    13682 non-null object\n",
      "Mult2017               13682 non-null float64\n",
      "MinSalaries            13682 non-null float64\n",
      "adjSalary              13682 non-null float64\n",
      "adjMinSalaries         13682 non-null float64\n",
      "adjSalary2             13682 non-null float64\n",
      "Bavg                   13682 non-null float64\n",
      "Slug                   13682 non-null float64\n",
      "OBP                    13682 non-null float64\n",
      "FPct                   13682 non-null float64\n",
      "dtypes: float64(31), int64(9), object(3)\n",
      "memory usage: 4.5+ MB\n",
      "None\n",
      "<class 'pandas.core.frame.DataFrame'>\n",
      "RangeIndex: 19820 entries, 0 to 19819\n",
      "Data columns (total 40 columns):\n",
      "G_x               19820 non-null float64\n",
      "AB                19820 non-null float64\n",
      "R                 19820 non-null float64\n",
      "H                 19820 non-null float64\n",
      "2B                19820 non-null float64\n",
      "3B                19820 non-null float64\n",
      "HR                19820 non-null float64\n",
      "RBI               19820 non-null float64\n",
      "SB_x              19820 non-null float64\n",
      "CS_x              19820 non-null float64\n",
      "BB                19820 non-null float64\n",
      "SO                19820 non-null float64\n",
      "IBB               19820 non-null float64\n",
      "HBP               19820 non-null float64\n",
      "SH                19820 non-null float64\n",
      "SF                19820 non-null float64\n",
      "GIDP              19820 non-null float64\n",
      "stint             19820 non-null float64\n",
      "G_y               19820 non-null float64\n",
      "GS                19820 non-null float64\n",
      "InnOuts           19820 non-null float64\n",
      "PO                19820 non-null float64\n",
      "A                 19820 non-null float64\n",
      "E                 19820 non-null float64\n",
      "DP                19820 non-null float64\n",
      "PB                19820 non-null float64\n",
      "SB_y              19820 non-null float64\n",
      "CS_y              19820 non-null float64\n",
      "salary            19820 non-null float64\n",
      "MinSalaries       19820 non-null float64\n",
      "adjSalary         19820 non-null float64\n",
      "adjMinSalaries    19820 non-null float64\n",
      "adjSalary2        19820 non-null float64\n",
      "Bavg              19820 non-null float64\n",
      "Slug              19820 non-null float64\n",
      "OBP               19820 non-null float64\n",
      "FPct              19820 non-null float64\n",
      "yearID            19820 non-null int64\n",
      "playerID          19820 non-null object\n",
      "Primary           19820 non-null object\n",
      "dtypes: float64(37), int64(1), object(2)\n",
      "memory usage: 6.0+ MB\n",
      "None\n",
      "<class 'pandas.core.frame.DataFrame'>\n",
      "RangeIndex: 4528 entries, 0 to 4527\n",
      "Data columns (total 40 columns):\n",
      "G_x               4528 non-null int64\n",
      "AB                4528 non-null int64\n",
      "R                 4528 non-null int64\n",
      "H                 4528 non-null int64\n",
      "2B                4528 non-null int64\n",
      "3B                4528 non-null int64\n",
      "HR                4528 non-null int64\n",
      "RBI               4528 non-null float64\n",
      "SB_x              4528 non-null float64\n",
      "CS_x              4528 non-null float64\n",
      "BB                4528 non-null int64\n",
      "SO                4528 non-null float64\n",
      "IBB               4528 non-null float64\n",
      "HBP               4528 non-null float64\n",
      "SH                4528 non-null float64\n",
      "SF                4528 non-null float64\n",
      "GIDP              4528 non-null float64\n",
      "stint             4528 non-null float64\n",
      "G_y               4528 non-null float64\n",
      "GS                4528 non-null float64\n",
      "InnOuts           4528 non-null float64\n",
      "PO                4528 non-null float64\n",
      "A                 4528 non-null float64\n",
      "E                 4528 non-null float64\n",
      "DP                4528 non-null float64\n",
      "PB                4528 non-null float64\n",
      "SB_y              4528 non-null float64\n",
      "CS_y              4528 non-null float64\n",
      "salary            4528 non-null float64\n",
      "MinSalaries       4528 non-null float64\n",
      "adjSalary         4528 non-null float64\n",
      "adjMinSalaries    4528 non-null float64\n",
      "adjSalary2        4528 non-null float64\n",
      "Bavg              4528 non-null float64\n",
      "Slug              4528 non-null float64\n",
      "OBP               4528 non-null float64\n",
      "FPct              4528 non-null float64\n",
      "yearID            4528 non-null int64\n",
      "playerID          4528 non-null object\n",
      "Primary           4528 non-null object\n",
      "dtypes: float64(29), int64(9), object(2)\n",
      "memory usage: 1.4+ MB\n",
      "None\n"
     ]
    }
   ],
   "source": [
    "player = player.drop(['Unnamed: 0'], axis=1)\n",
    "playerNoSal = playerNoSal.drop(['Unnamed: 0'], axis=1)\n",
    "playerScale = playerScale.drop(['Unnamed: 0'], axis=1)\n",
    "playerNoSalScale = playerNoSalScale.drop(['Unnamed: 0'], axis=1)\n",
    "\n",
    "print(player.info())\n",
    "print(playerNoSal.info())\n",
    "print(playerScale.info())\n",
    "print(playerNoSalScale.info())"
   ]
  },
  {
   "cell_type": "code",
   "execution_count": 3,
   "metadata": {},
   "outputs": [
    {
     "name": "stdout",
     "output_type": "stream",
     "text": [
      "<class 'pandas.core.frame.DataFrame'>\n",
      "Int64Index: 15574 entries, 0 to 19819\n",
      "Data columns (total 40 columns):\n",
      "G_x               15574 non-null float64\n",
      "AB                15574 non-null float64\n",
      "R                 15574 non-null float64\n",
      "H                 15574 non-null float64\n",
      "2B                15574 non-null float64\n",
      "3B                15574 non-null float64\n",
      "HR                15574 non-null float64\n",
      "RBI               15574 non-null float64\n",
      "SB_x              15574 non-null float64\n",
      "CS_x              15574 non-null float64\n",
      "BB                15574 non-null float64\n",
      "SO                15574 non-null float64\n",
      "IBB               15574 non-null float64\n",
      "HBP               15574 non-null float64\n",
      "SH                15574 non-null float64\n",
      "SF                15574 non-null float64\n",
      "GIDP              15574 non-null float64\n",
      "stint             15574 non-null float64\n",
      "G_y               15574 non-null float64\n",
      "GS                15574 non-null float64\n",
      "InnOuts           15574 non-null float64\n",
      "PO                15574 non-null float64\n",
      "A                 15574 non-null float64\n",
      "E                 15574 non-null float64\n",
      "DP                15574 non-null float64\n",
      "PB                15574 non-null float64\n",
      "SB_y              15574 non-null float64\n",
      "CS_y              15574 non-null float64\n",
      "salary            15574 non-null float64\n",
      "MinSalaries       15574 non-null float64\n",
      "adjSalary         15574 non-null float64\n",
      "adjMinSalaries    15574 non-null float64\n",
      "adjSalary2        15574 non-null float64\n",
      "Bavg              15574 non-null float64\n",
      "Slug              15574 non-null float64\n",
      "OBP               15574 non-null float64\n",
      "FPct              15574 non-null float64\n",
      "yearID            15574 non-null int64\n",
      "playerID          15574 non-null object\n",
      "Primary           15574 non-null object\n",
      "dtypes: float64(37), int64(1), object(2)\n",
      "memory usage: 4.9+ MB\n",
      "None\n"
     ]
    },
    {
     "data": {
      "image/png": "[encoded data removed]",
      "text/plain": [
       "<Figure size 1080x432 with 2 Axes>"
      ]
     },
     "metadata": {},
     "output_type": "display_data"
    }
   ],
   "source": [
    "### Experiment with Subsetting Data\n",
    "#Games\n",
    "fig, ax =plt.subplots(1,2, figsize=(15,6))\n",
    "sns.boxplot(data=player[['G_x', 'G_y']], palette=\"Set1\", ax=ax[0])\n",
    "sns.boxplot(data=playerScale[['G_x', 'G_y']], palette=\"Set1\", ax=ax[1])\n",
    "\n",
    "playerScale = playerScale[playerScale.G_x > -1.1]\n",
    "print(playerScale.info())"
   ]
  },
  {
   "cell_type": "markdown",
   "metadata": {},
   "source": [
    "### Linear Discriminate Analysis\n",
    "\n",
    "INSERT INTRODUCTTION TO LDA TEXT!!!!!!!!!!!!!!!!!\n",
    "\n",
    "Variables to vary:  \n",
    "- solver = lsqr, eigen \n",
    "- n_components = 4:30:2\n",
    "- shrinkage = none, auto \n",
    "- priors = priors, no priors\n",
    "\n",
    "StratifiedKFold Cross Validation due to number large number of outfielders compared to other positions."
   ]
  },
  {
   "cell_type": "markdown",
   "metadata": {},
   "source": [
    "#### LDA Priors\n",
    "The Lahman Database does not distinguish between outfielders by position (left field, center field, right field).  All outfielders are categorized as \"OF\".  This does make sense as outfielders often play multiple outfield positions depending upon the baseball stadium, pitcher and game situation.  However, this poses a challenge for classification as 37% of the population by position is outfielders whereas the other positions are roughly 11% of the populations.  LDA allows us to specify prior population percentages to assist with classification.  The priors are shown below."
   ]
  },
  {
   "cell_type": "code",
   "execution_count": 4,
   "metadata": {},
   "outputs": [
    {
     "name": "stdout",
     "output_type": "stream",
     "text": [
      "  Primary     Pct\n",
      "0      1B  0.1205\n",
      "1      2B  0.1162\n",
      "2      3B  0.1125\n",
      "3       C  0.1619\n",
      "4      DH  0.0143\n",
      "5      OF  0.3738\n",
      "6      SS  0.1008\n",
      "[0.1205 0.1162 0.1125 0.1619 0.0143 0.3738 0.1008]\n"
     ]
    }
   ],
   "source": [
    "df = player[['yearID', 'playerID', 'Primary']]\n",
    "df = df.groupby(['Primary']).count().reset_index()\n",
    "df['Pct'] = round((df.playerID / len(player)), 4)\n",
    "df = df.drop(['yearID', 'playerID'], axis=1)\n",
    "print(df)\n",
    "\n",
    "myPriors = np.array(df.Pct)\n",
    "print(myPriors)"
   ]
  },
  {
   "cell_type": "markdown",
   "metadata": {},
   "source": [
    "#### LDA Parameter Selection\n",
    "GridSearchCV will be utilized to assist with parameter selection for LDA.  StratifedShuffleSplit will be the cross validation method passed to GridSearchCV.  "
   ]
  },
  {
   "cell_type": "code",
   "execution_count": 5,
   "metadata": {},
   "outputs": [
    {
     "name": "stdout",
     "output_type": "stream",
     "text": [
      "[{'n_components': [2, 4, 6, 8, 10, 12, 14, 16, 18], 'solver': ['lsqr', 'svd']}]\n",
      "Fitting 3 folds for each of 18 candidates, totalling 54 fits\n"
     ]
    },
    {
     "name": "stderr",
     "output_type": "stream",
     "text": [
      "[Parallel(n_jobs=10)]: Done  30 tasks      | elapsed:    1.9s\n",
      "[Parallel(n_jobs=10)]: Done  54 out of  54 | elapsed:    3.0s finished\n"
     ]
    },
    {
     "name": "stdout",
     "output_type": "stream",
     "text": [
      "GSCV CV2 LDA Accuracy: 0.8163723916532906\n",
      "Fitting 3 folds for each of 18 candidates, totalling 54 fits\n"
     ]
    },
    {
     "name": "stderr",
     "output_type": "stream",
     "text": [
      "[Parallel(n_jobs=10)]: Done  30 tasks      | elapsed:    1.8s\n"
     ]
    },
    {
     "name": "stdout",
     "output_type": "stream",
     "text": [
      "GSCV CV2 LDA Accuracy: 0.8211878009630819\n",
      "Fitting 3 folds for each of 18 candidates, totalling 54 fits\n"
     ]
    },
    {
     "name": "stderr",
     "output_type": "stream",
     "text": [
      "[Parallel(n_jobs=10)]: Done  54 out of  54 | elapsed:    2.8s finished\n",
      "[Parallel(n_jobs=10)]: Done  30 tasks      | elapsed:    1.9s\n",
      "[Parallel(n_jobs=10)]: Done  54 out of  54 | elapsed:    3.0s finished\n"
     ]
    },
    {
     "name": "stdout",
     "output_type": "stream",
     "text": [
      "GSCV CV2 LDA Accuracy: 0.8237560192616372\n",
      "Fitting 3 folds for each of 18 candidates, totalling 54 fits\n"
     ]
    },
    {
     "name": "stderr",
     "output_type": "stream",
     "text": [
      "[Parallel(n_jobs=10)]: Done  30 tasks      | elapsed:    1.8s\n",
      "[Parallel(n_jobs=10)]: Done  54 out of  54 | elapsed:    2.8s finished\n"
     ]
    },
    {
     "name": "stdout",
     "output_type": "stream",
     "text": [
      "GSCV CV2 LDA Accuracy: 0.8112359550561797\n",
      "Fitting 3 folds for each of 18 candidates, totalling 54 fits\n"
     ]
    },
    {
     "name": "stderr",
     "output_type": "stream",
     "text": [
      "[Parallel(n_jobs=10)]: Done  30 tasks      | elapsed:    1.9s\n",
      "[Parallel(n_jobs=10)]: Done  54 out of  54 | elapsed:    3.0s finished\n"
     ]
    },
    {
     "name": "stdout",
     "output_type": "stream",
     "text": [
      "GSCV CV2 LDA Accuracy: 0.8150882825040129\n",
      "Fitting 3 folds for each of 18 candidates, totalling 54 fits\n"
     ]
    },
    {
     "name": "stderr",
     "output_type": "stream",
     "text": [
      "[Parallel(n_jobs=10)]: Done  30 tasks      | elapsed:    1.8s\n",
      "[Parallel(n_jobs=10)]: Done  54 out of  54 | elapsed:    2.9s finished\n"
     ]
    },
    {
     "name": "stdout",
     "output_type": "stream",
     "text": [
      "GSCV CV2 LDA Accuracy: 0.8070626003210273\n",
      "Fitting 3 folds for each of 18 candidates, totalling 54 fits\n"
     ]
    },
    {
     "name": "stderr",
     "output_type": "stream",
     "text": [
      "[Parallel(n_jobs=10)]: Done  30 tasks      | elapsed:    1.9s\n",
      "[Parallel(n_jobs=10)]: Done  54 out of  54 | elapsed:    3.0s finished\n"
     ]
    },
    {
     "name": "stdout",
     "output_type": "stream",
     "text": [
      "GSCV CV2 LDA Accuracy: 0.8240770465489566\n",
      "Fitting 3 folds for each of 18 candidates, totalling 54 fits\n"
     ]
    },
    {
     "name": "stderr",
     "output_type": "stream",
     "text": [
      "[Parallel(n_jobs=10)]: Done  30 tasks      | elapsed:    1.8s\n"
     ]
    },
    {
     "name": "stdout",
     "output_type": "stream",
     "text": [
      "GSCV CV2 LDA Accuracy: 0.8260032102728732\n",
      "Fitting 3 folds for each of 18 candidates, totalling 54 fits\n"
     ]
    },
    {
     "name": "stderr",
     "output_type": "stream",
     "text": [
      "[Parallel(n_jobs=10)]: Done  54 out of  54 | elapsed:    3.0s finished\n",
      "[Parallel(n_jobs=10)]: Done  30 tasks      | elapsed:    1.9s\n",
      "[Parallel(n_jobs=10)]: Done  54 out of  54 | elapsed:    3.0s finished\n"
     ]
    },
    {
     "name": "stdout",
     "output_type": "stream",
     "text": [
      "GSCV CV2 LDA Accuracy: 0.8131621187800963\n",
      "Fitting 3 folds for each of 18 candidates, totalling 54 fits\n"
     ]
    },
    {
     "name": "stderr",
     "output_type": "stream",
     "text": [
      "[Parallel(n_jobs=10)]: Done  30 tasks      | elapsed:    1.9s\n"
     ]
    },
    {
     "name": "stdout",
     "output_type": "stream",
     "text": [
      "GSCV CV2 LDA Accuracy: 0.8077046548956661\n"
     ]
    },
    {
     "name": "stderr",
     "output_type": "stream",
     "text": [
      "[Parallel(n_jobs=10)]: Done  54 out of  54 | elapsed:    3.0s finished\n"
     ]
    }
   ],
   "source": [
    "from sklearn.discriminant_analysis import LinearDiscriminantAnalysis\n",
    "from sklearn.model_selection import StratifiedKFold, ShuffleSplit, GridSearchCV, ParameterGrid\n",
    "from sklearn.cross_validation import StratifiedShuffleSplit\n",
    "from sklearn import metrics as mt\n",
    "\n",
    "#Create Lists to Automate LDA Model Search\n",
    "#mySolv = ['lsqr', 'eigen', 'svd']\n",
    "mySolv = ['lsqr', 'svd']\n",
    "myNComponents = list(range(2,20,2))\n",
    "myShrink = [None, 'auto']\n",
    "#parms = {'n_components': [myNComponents], 'shrinkage': [myShrink], 'solver': [mySolv]}\n",
    "parms = {'n_components': [myNComponents], 'solver': [mySolv]}\n",
    "parmGrid = (list(ParameterGrid(parms)))\n",
    "print(parmGrid)\n",
    "\n",
    "#Create Target and Data sets\n",
    "X = playerScale.drop(['Primary', 'playerID', 'yearID'], axis=1)\n",
    "y = playerScale['Primary']\n",
    "#yhat = np.zeros(y.shape)\n",
    "yhat = np.empty(y.shape,dtype=str)\n",
    "yhat2 = np.empty(y.shape,dtype=str)\n",
    "\n",
    "#Create cross validation interator\n",
    "cv = StratifiedKFold(n_splits=10)\n",
    "cv2 = StratifiedShuffleSplit(y, n_iter = 10, test_size = 0.2, train_size=0.8)\n",
    "\n",
    "#Create arrays from data frame columns as input into dataframe iterators\n",
    "X = X.values\n",
    "y = y.values\n",
    "\n",
    "### Parameter Grid Search for LDA and Stratified Shuffle Split\n",
    "gscv = GridSearchCV(estimator=LinearDiscriminantAnalysis(priors=myPriors), \n",
    "                   n_jobs=10, \n",
    "                   verbose=1, \n",
    "                   param_grid = parmGrid, \n",
    "                   scoring='accuracy')\n",
    "\n",
    "for trainidx, testidx in cv2:\n",
    "    X_train = X[trainidx] \n",
    "    X_test = X[testidx] \n",
    "    y_train = y[trainidx]\n",
    "    y_test = y[testidx]    \n",
    "    gscv.fit(X_train, y_train)\n",
    "    print(\"GSCV CV2 LDA Accuracy:\", gscv.score(X_test, y_test))\n",
    "#    clf.fit(X_train, y_train)\n",
    "#    print(\"CV2 LDA Accuracy:\", clf.score(X_test, y_test))\n",
    "\n",
    "#Create LDA Object\n",
    "#clf = LinearDiscriminantAnalysis(n_components=15, priors=myPriors, shrinkage='auto', solver='lsqr') #Accur: 0.72795\n",
    "#clf = LinearDiscriminantAnalysis(n_components=14, priors=myPriors, solver='svd') #Accur: 0.72866\n",
    "#clf.fit(X, y)\n",
    "#print(\"1st Pass Accuracy:\", clf.score(X, y))\n",
    "\n",
    "\n",
    "#### Stratified Shuffle Split\n",
    "#for trainidx, testidx in cv2:\n",
    "#    X_train = X[trainidx] \n",
    "#    X_test = X[testidx] \n",
    "#    y_train = y[trainidx]\n",
    "#    y_test = y[testidx]    \n",
    "#    clf.fit(X_train, y_train)\n",
    "#    print(\"CV2 LDA Accuracy:\", clf.score(X_test, y_test))\n",
    "#\n",
    "#clf.fit(X_train, y_train)\n",
    "#yhat2 = clf.predict(X_test)\n",
    "#total_accuracy = mt.accuracy_score(y_test, yhat2)\n",
    "#print(\"CV2 LDA Accuracy P:\", total_accuracy)\n",
    "\n",
    "#### Stratified K Fold\n",
    "#for train, test in cv.split(X, y):\n",
    "#    clf.fit(X[train],y[train])\n",
    "#    print(\"CV LDA Acc Score:\", clf.score(X[test], y[test]))\n",
    "#    yhat[test] = clf.predict(X[test])\n",
    "#    \n",
    "#total_accuracy = mt.accuracy_score(y, yhat)\n",
    "#print ('CV LDA accuracy P', total_accuracy)"
   ]
  },
  {
   "cell_type": "markdown",
   "metadata": {},
   "source": [
    "As shown below, the optimal LDA model identified by GridSearchCV is two components with least squares regression.  "
   ]
  },
  {
   "cell_type": "code",
   "execution_count": 6,
   "metadata": {},
   "outputs": [
    {
     "name": "stdout",
     "output_type": "stream",
     "text": [
      "Best Estimator: LinearDiscriminantAnalysis(n_components=2,\n",
      "              priors=array([0.1205, 0.1162, 0.1125, 0.1619, 0.0143, 0.3738, 0.1008]),\n",
      "              shrinkage=None, solver='lsqr', store_covariance=False,\n",
      "              tol=0.0001)\n",
      "Best Parameters: {'n_components': 2, 'solver': 'lsqr'}\n",
      "Best Score: 0.8176418653182438\n"
     ]
    }
   ],
   "source": [
    "print(\"Best Estimator:\", gscv.best_estimator_)\n",
    "print(\"Best Parameters:\", gscv.best_params_)\n",
    "print(\"Best Score:\", gscv.best_score_)"
   ]
  },
  {
   "cell_type": "markdown",
   "metadata": {},
   "source": [
    "#### LDA:  Fit and Predict Using Best Estimators\n",
    "With minimal training, the LDA model produces good results.  As expected,  second basemen and short stops are difficult to classify.  While not necessarily interchangeable, players at these two positions do have similar traits.  Traditionally, players at this position are prized for their defensive abilities and are allowed to be below average hitters as teams like to be sound defensively \"up the middle\" of the field.  The Confusion Matrix heatmap offers a visual view showing how players were classified compared the their actual positions.  "
   ]
  },
  {
   "cell_type": "code",
   "execution_count": 9,
   "metadata": {},
   "outputs": [
    {
     "name": "stdout",
     "output_type": "stream",
     "text": [
      "             precision    recall  f1-score   support\n",
      "\n",
      "         1B       0.97      0.71      0.82       387\n",
      "         2B       0.60      0.63      0.61       366\n",
      "         3B       0.69      0.77      0.73       363\n",
      "          C       1.00      0.89      0.94       453\n",
      "         DH       0.77      1.00      0.87        17\n",
      "         OF       0.83      0.96      0.89      1203\n",
      "         SS       0.71      0.46      0.56       326\n",
      "\n",
      "avg / total       0.81      0.81      0.80      3115\n",
      "\n"
     ]
    },
    {
     "data": {
      "image/png": "[encoded data removed]",
      "text/plain": [
       "<Figure size 432x288 with 1 Axes>"
      ]
     },
     "metadata": {},
     "output_type": "display_data"
    },
    {
     "data": {
      "image/png": "[encoded data removed]",
      "text/plain": [
       "<Figure size 432x288 with 2 Axes>"
      ]
     },
     "metadata": {},
     "output_type": "display_data"
    }
   ],
   "source": [
    "#Create LDA Object\n",
    "clf = LinearDiscriminantAnalysis(n_components=2, priors=myPriors, solver='lsqr')\n",
    "\n",
    "clf.fit(X_train, y_train)\n",
    "yhat2 = clf.predict(X_test)\n",
    "\n",
    "print(mt.classification_report(y_test, yhat2, target_names = ['1B', '2B', '3B', 'C', 'DH', 'OF', 'SS']))\n",
    "\n",
    "#Create Classification Visualizations\n",
    "#fig, ax =plt.subplots(1,2, figsize=(15,6))\n",
    "\n",
    "from yellowbrick.classifier import ConfusionMatrix, ClassificationReport, ROCAUC\n",
    "cm2 = ConfusionMatrix(clf, classes=['1B', '2B', '3B', 'C', 'DH', 'OF', 'SS'], cmap='GnBu')\n",
    "cm2.fit(X_train, y_train)\n",
    "cm2.score(X_test, y_test)\n",
    "cm2.poof()\n",
    "\n",
    "crpt = ClassificationReport(clf, classes=['1B', '2B', '3B', 'C', 'DH', 'OF', 'SS'], cmap='GnBu')\n",
    "crpt.fit(X_train, y_train)\n",
    "crpt.score(X_test, y_test)\n",
    "crpt.poof()\n",
    "\n",
    "#roc = ROCAUC(clf)\n",
    "#roc.fit(X_train, y_train)\n",
    "#roc.score(X_test, y_test)\n",
    "#roc.poof()"
   ]
  },
  {
   "cell_type": "code",
   "execution_count": null,
   "metadata": {},
   "outputs": [],
   "source": []
  }
 ],
 "metadata": {
  "kernelspec": {
   "display_name": "Python 3",
   "language": "python",
   "name": "python3"
  },
  "language_info": {
   "codemirror_mode": {
    "name": "ipython",
    "version": 3
   },
   "file_extension": ".py",
   "mimetype": "text/x-python",
   "name": "python",
   "nbconvert_exporter": "python",
   "pygments_lexer": "ipython3",
   "version": "3.5.5"
  }
 },
 "nbformat": 4,
 "nbformat_minor": 2
}
