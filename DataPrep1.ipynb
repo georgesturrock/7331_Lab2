{
 "cells": [
  {
   "cell_type": "markdown",
   "metadata": {},
   "source": [
    "# Data Mining Lab 2\n",
    "#### Team 2:  Patricia Goresen, Jeffrey Lancon, Brychan Manry, George Sturrock\n",
    "\n",
    "## Source Data\n",
    "The source of baseball data for this lab is the Sean Lahman Baseball Database [ http://www.seanlahman.com/baseball-archive/statistics/]. Often cited as the most complete baseball database, the data set includes twenty-seven data tables and millions of records covering most non-proprietary baseball data pertaining to offense, fielding, pitching, payroll, player demographics, team statistics, manager data and much more. In past assignments, this team has focused on team level data.  For this Lab, the team will focus on player level data.  In particular, the focus will be on position players.  Pitchers will not be viewed in this study.  This will allow for more exploration of baseball data and provide a broader variety of regression and classification scenarios.  \n",
    "\n",
    "This lab will focus on the analysis of four specific tables containing player level details in the Lahman Baseball Database:  Batting, Fielding, Player Awards and Salaries.  The names of the different tables accurately describe the contents.  For example, the Batting table contains offensive statics per year for each player.  The tables are at different grains.  The utlimate intention is to have a single dataframe accurately combining all relevant features of the four tables.  The methods used to achieve this goal will be presented below.  To begin, a simple SQL query was written to join the four tables together.  This is a task efficiently handled by any database with few lines of code when compared to the code needed for the same operation in python.  The SQL is shown below:\n",
    "\n",
    "SELECT Batting.*, AwardsPlayers.*, Fielding.*, Salaries.*\n",
    "FROM ((Batting LEFT JOIN AwardsPlayers ON (Batting.yearID = AwardsPlayers.yearID) AND (Batting.playerID = AwardsPlayers.playerID)) LEFT JOIN Fielding ON (Batting.stint = Fielding.stint) AND (Batting.yearID = Fielding.yearID) AND (Batting.playerID = Fielding.playerID)) LEFT JOIN Salaries ON (Batting.yearID = Salaries.yearID) AND (Batting.playerID = Salaries.playerID);\n",
    "\n",
    "The remaining filtering, feature reduction and subsetting tasks will be performed in Python.  \n"
   ]
  },
  {
   "cell_type": "markdown",
   "metadata": {},
   "source": [
    "## Import Data"
   ]
  },
  {
   "cell_type": "code",
   "execution_count": 19,
   "metadata": {},
   "outputs": [
    {
     "name": "stdout",
     "output_type": "stream",
     "text": [
      "<class 'pandas.core.frame.DataFrame'>\n",
      "RangeIndex: 6158 entries, 0 to 6157\n",
      "Data columns (total 6 columns):\n",
      "playerID    6158 non-null object\n",
      "awardID     6158 non-null object\n",
      "yearID      6158 non-null int64\n",
      "lgID        6158 non-null object\n",
      "tie         47 non-null object\n",
      "notes       4710 non-null object\n",
      "dtypes: int64(1), object(5)\n",
      "memory usage: 288.7+ KB\n",
      "Awards None\n",
      "<class 'pandas.core.frame.DataFrame'>\n",
      "RangeIndex: 104324 entries, 0 to 104323\n",
      "Data columns (total 24 columns):\n",
      "playerID     104324 non-null object\n",
      "yearID       104324 non-null int64\n",
      "stint        104324 non-null int64\n",
      "teamID       104324 non-null object\n",
      "lgID         103586 non-null object\n",
      "G            104324 non-null int64\n",
      "G_batting    0 non-null float64\n",
      "AB           104324 non-null int64\n",
      "R            104324 non-null int64\n",
      "H            104324 non-null int64\n",
      "2B           104324 non-null int64\n",
      "3B           104324 non-null int64\n",
      "HR           104324 non-null int64\n",
      "RBI          103568 non-null float64\n",
      "SB           101956 non-null float64\n",
      "CS           80832 non-null float64\n",
      "BB           104324 non-null int64\n",
      "SO           97974 non-null float64\n",
      "IBB          67722 non-null float64\n",
      "HBP          101507 non-null float64\n",
      "SH           98255 non-null float64\n",
      "SF           68259 non-null float64\n",
      "GIDP         78921 non-null float64\n",
      "G_old        0 non-null float64\n",
      "dtypes: float64(11), int64(10), object(3)\n",
      "memory usage: 19.1+ MB\n",
      "Batting None\n",
      "<class 'pandas.core.frame.DataFrame'>\n",
      "RangeIndex: 138838 entries, 0 to 138837\n",
      "Data columns (total 18 columns):\n",
      "playerID    138838 non-null object\n",
      "yearID      138838 non-null int64\n",
      "stint       138838 non-null int64\n",
      "teamID      138838 non-null object\n",
      "lgID        137325 non-null object\n",
      "POS         138838 non-null object\n",
      "G           138838 non-null int64\n",
      "GS          88096 non-null float64\n",
      "InnOuts     102314 non-null float64\n",
      "PO          138838 non-null int64\n",
      "A           138838 non-null int64\n",
      "E           138837 non-null float64\n",
      "DP          138838 non-null int64\n",
      "PB          11351 non-null float64\n",
      "WP          1169 non-null float64\n",
      "SB          7906 non-null float64\n",
      "CS          7906 non-null float64\n",
      "ZR          1169 non-null float64\n",
      "dtypes: float64(8), int64(6), object(4)\n",
      "memory usage: 19.1+ MB\n",
      "Fielding None\n",
      "<class 'pandas.core.frame.DataFrame'>\n",
      "RangeIndex: 26428 entries, 0 to 26427\n",
      "Data columns (total 5 columns):\n",
      "yearID      26428 non-null int64\n",
      "teamID      26428 non-null object\n",
      "lgID        26428 non-null object\n",
      "playerID    26428 non-null object\n",
      "salary      26428 non-null int64\n",
      "dtypes: int64(2), object(3)\n",
      "memory usage: 1.0+ MB\n",
      "Salaries None\n"
     ]
    }
   ],
   "source": [
    "import pandas as pd\n",
    "import numpy as np\n",
    "\n",
    "p = pd.read_csv('~/7331_Lab2/data/AwardsPlayers.csv')\n",
    "\n",
    "print('Awards', awards.info())\n",
    "print('Batting', batting.info())\n",
    "print('Fielding', fielding.info())\n",
    "print('Salaries', salaries.info())"
   ]
  },
  {
   "cell_type": "code",
   "execution_count": 20,
   "metadata": {},
   "outputs": [
    {
     "name": "stdout",
     "output_type": "stream",
     "text": [
      "Shape of DataFrames: Awards: (6158, 6) Batting: (104324, 24) Fielding: (138838, 18) Salaries: (26428, 5)\n"
     ]
    }
   ],
   "source": [
    "## Go back and convert to table ##\n",
    "#teamNullCols = pd.DataFrame({\n",
    "#    'n Missing' : teamNullCols, '% Missing' : ((teamNullCols / teams2.shape[0])*100).round(2)#.astype(str) + \"%\"})\n",
    "\n",
    "print(\"Shape of DataFrames:\", \"Awards:\", awards.shape, \"Batting:\", batting.shape, \"Fielding:\", fielding.shape, \"Salaries:\", salaries.shape)"
   ]
  },
  {
   "cell_type": "markdown",
   "metadata": {},
   "source": [
    "## Row Filtering\n",
    "\n",
    "Only records from the 1985 season and greater will be used for analysis in this assignment.  1985 was chosen for two reasons.  First, salary data only goes back to 1985.  Second, the evolution of the game and it players has changed quite a bit since beginning of the professional game of baseball.  Selecting only records from the 1985 season and forward providees a 32 year data set while eliminating data that would likely lead to erroneous results.  "
   ]
  },
  {
   "cell_type": "code",
   "execution_count": 22,
   "metadata": {},
   "outputs": [
    {
     "name": "stdout",
     "output_type": "stream",
     "text": [
      "Shape of DataFrames: Awards: (2398, 6) Batting: (42071, 24) Fielding: (54560, 18) Salaries: (26428, 5)\n"
     ]
    }
   ],
   "source": [
    "awards = awards[awards.yearID > 1984]\n",
    "batting = batting[batting.yearID > 1984]\n",
    "fielding = fielding[fielding.yearID > 1984]\n",
    "salaries = salaries[salaries.yearID > 1984]\n",
    "\n",
    "print(\"Shape of DataFrames:\", \"Awards:\", awards.shape, \"Batting:\", batting.shape, \"Fielding:\", fielding.shape, \"Salaries:\", salaries.shape)"
   ]
  },
  {
   "cell_type": "markdown",
   "metadata": {},
   "source": [
    "Additionally, players who did not play in at least 25% of the games in a season"
   ]
  }
 ],
 "metadata": {
  "kernelspec": {
   "display_name": "Python 3",
   "language": "python",
   "name": "python3"
  },
  "language_info": {
   "codemirror_mode": {
    "name": "ipython",
    "version": 3
   },
   "file_extension": ".py",
   "mimetype": "text/x-python",
   "name": "python",
   "nbconvert_exporter": "python",
   "pygments_lexer": "ipython3",
   "version": "3.5.5"
  }
 },
 "nbformat": 4,
 "nbformat_minor": 2
}
