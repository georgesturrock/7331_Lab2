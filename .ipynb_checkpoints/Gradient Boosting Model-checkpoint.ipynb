{
 "cells": [
  {
   "cell_type": "code",
   "execution_count": 1,
   "metadata": {},
   "outputs": [
    {
     "name": "stderr",
     "output_type": "stream",
     "text": [
      "/home/george_sturrock/anaconda3/lib/python3.5/site-packages/sklearn/cross_validation.py:41: DeprecationWarning: This module was deprecated in version 0.18 in favor of the model_selection module into which all the refactored classes and functions are moved. Also note that the interface of the new CV iterators are different from that of this module. This module will be removed in 0.20.\n",
      "  \"This module will be removed in 0.20.\", DeprecationWarning)\n",
      "/home/george_sturrock/anaconda3/lib/python3.5/site-packages/sklearn/grid_search.py:42: DeprecationWarning: This module was deprecated in version 0.18 in favor of the model_selection module into which all the refactored classes and functions are moved. This module will be removed in 0.20.\n",
      "  DeprecationWarning)\n"
     ]
    }
   ],
   "source": [
    "import pandas as pd\n",
    "import xgboost as xgb\n",
    "from sklearn.grid_search import GridSearchCV\n",
    "from sklearn.cross_validation import train_test_split\n",
    "from xgboost.sklearn import XGBClassifier  \n",
    "import numpy as np\n",
    "\n",
    "\n",
    "player = pd.read_csv('./data/player.csv')\n",
    "playerNoSal = pd.read_csv('./data/playerNoSal.csv')\n",
    "playerScale = pd.read_csv('./data/playerscale.csv')\n",
    "playerNoSalScale = pd.read_csv('./data/playerNoSalscale.csv')"
   ]
  },
  {
   "cell_type": "code",
   "execution_count": 2,
   "metadata": {},
   "outputs": [],
   "source": [
    "player.head()\n",
    "player = player.drop(['Unnamed: 0'], axis=1)\n",
    "playerNoSal.head()\n",
    "playerNoSal = playerNoSal.drop(['Unnamed: 0'], axis=1)\n",
    "playerScale.head()\n",
    "playerScale = playerScale.drop(['Unnamed: 0'], axis=1)\n",
    "playerNoSalScale.head()\n",
    "playerNoSalScale = playerNoSalScale.drop(['Unnamed: 0'], axis=1)"
   ]
  },
  {
   "cell_type": "code",
   "execution_count": 3,
   "metadata": {},
   "outputs": [
    {
     "name": "stdout",
     "output_type": "stream",
     "text": [
      "<class 'pandas.core.frame.DataFrame'>\n",
      "RangeIndex: 19820 entries, 0 to 19819\n",
      "Data columns (total 45 columns):\n",
      "playerID               19820 non-null object\n",
      "yearID                 19820 non-null int64\n",
      "G_x                    19820 non-null int64\n",
      "AB                     19820 non-null int64\n",
      "R                      19820 non-null int64\n",
      "H                      19820 non-null int64\n",
      "2B                     19820 non-null int64\n",
      "3B                     19820 non-null int64\n",
      "HR                     19820 non-null int64\n",
      "RBI                    19820 non-null float64\n",
      "SB_x                   19820 non-null float64\n",
      "CS_x                   19820 non-null float64\n",
      "BB                     19820 non-null int64\n",
      "SO                     19820 non-null float64\n",
      "IBB                    19820 non-null float64\n",
      "HBP                    19820 non-null float64\n",
      "SH                     19820 non-null float64\n",
      "SF                     19820 non-null float64\n",
      "GIDP                   19820 non-null float64\n",
      "stint                  19820 non-null float64\n",
      "G_y                    19820 non-null float64\n",
      "GS                     19820 non-null float64\n",
      "InnOuts                19820 non-null float64\n",
      "PO                     19820 non-null float64\n",
      "A                      19820 non-null float64\n",
      "E                      19820 non-null float64\n",
      "DP                     19820 non-null float64\n",
      "PB                     19820 non-null float64\n",
      "SB_y                   19820 non-null float64\n",
      "CS_y                   19820 non-null float64\n",
      "Primary                19820 non-null object\n",
      "salary                 19820 non-null float64\n",
      "Annual Average         19820 non-null float64\n",
      "AnnualPercentChange    19820 non-null object\n",
      "Mult2017               19820 non-null float64\n",
      "MinSalaries            19820 non-null float64\n",
      "adjSalary              19820 non-null float64\n",
      "adjMinSalaries         19820 non-null float64\n",
      "adjSalary2             19820 non-null float64\n",
      "Bavg                   19820 non-null float64\n",
      "Slug                   19820 non-null float64\n",
      "OBP                    19820 non-null float64\n",
      "FPct                   19820 non-null float64\n",
      "debutYear              19820 non-null int64\n",
      "seasonNum              19820 non-null int64\n",
      "dtypes: float64(31), int64(11), object(3)\n",
      "memory usage: 6.8+ MB\n",
      "None\n",
      "<class 'pandas.core.frame.DataFrame'>\n",
      "RangeIndex: 13682 entries, 0 to 13681\n",
      "Data columns (total 45 columns):\n",
      "playerID               13682 non-null object\n",
      "yearID                 13682 non-null int64\n",
      "G_x                    13682 non-null int64\n",
      "AB                     13682 non-null int64\n",
      "R                      13682 non-null int64\n",
      "H                      13682 non-null int64\n",
      "2B                     13682 non-null int64\n",
      "3B                     13682 non-null int64\n",
      "HR                     13682 non-null int64\n",
      "RBI                    13682 non-null float64\n",
      "SB_x                   13682 non-null float64\n",
      "CS_x                   13682 non-null float64\n",
      "BB                     13682 non-null int64\n",
      "SO                     13682 non-null float64\n",
      "IBB                    13682 non-null float64\n",
      "HBP                    13682 non-null float64\n",
      "SH                     13682 non-null float64\n",
      "SF                     13682 non-null float64\n",
      "GIDP                   13682 non-null float64\n",
      "stint                  13682 non-null float64\n",
      "G_y                    13682 non-null float64\n",
      "GS                     13682 non-null float64\n",
      "InnOuts                13682 non-null float64\n",
      "PO                     13682 non-null float64\n",
      "A                      13682 non-null float64\n",
      "E                      13682 non-null float64\n",
      "DP                     13682 non-null float64\n",
      "PB                     13682 non-null float64\n",
      "SB_y                   13682 non-null float64\n",
      "CS_y                   13682 non-null float64\n",
      "Primary                13682 non-null object\n",
      "salary                 13682 non-null float64\n",
      "Annual Average         13682 non-null float64\n",
      "AnnualPercentChange    13682 non-null object\n",
      "Mult2017               13682 non-null float64\n",
      "MinSalaries            13682 non-null float64\n",
      "adjSalary              13682 non-null float64\n",
      "adjMinSalaries         13682 non-null float64\n",
      "adjSalary2             13682 non-null float64\n",
      "Bavg                   13682 non-null float64\n",
      "Slug                   13682 non-null float64\n",
      "OBP                    13682 non-null float64\n",
      "FPct                   13682 non-null float64\n",
      "debutYear              13682 non-null int64\n",
      "seasonNum              13682 non-null int64\n",
      "dtypes: float64(31), int64(11), object(3)\n",
      "memory usage: 4.7+ MB\n",
      "None\n",
      "<class 'pandas.core.frame.DataFrame'>\n",
      "RangeIndex: 19820 entries, 0 to 19819\n",
      "Data columns (total 42 columns):\n",
      "G_x               19820 non-null float64\n",
      "AB                19820 non-null float64\n",
      "R                 19820 non-null float64\n",
      "H                 19820 non-null float64\n",
      "2B                19820 non-null float64\n",
      "3B                19820 non-null float64\n",
      "HR                19820 non-null float64\n",
      "RBI               19820 non-null float64\n",
      "SB_x              19820 non-null float64\n",
      "CS_x              19820 non-null float64\n",
      "BB                19820 non-null float64\n",
      "SO                19820 non-null float64\n",
      "IBB               19820 non-null float64\n",
      "HBP               19820 non-null float64\n",
      "SH                19820 non-null float64\n",
      "SF                19820 non-null float64\n",
      "GIDP              19820 non-null float64\n",
      "stint             19820 non-null float64\n",
      "G_y               19820 non-null float64\n",
      "GS                19820 non-null float64\n",
      "InnOuts           19820 non-null float64\n",
      "PO                19820 non-null float64\n",
      "A                 19820 non-null float64\n",
      "E                 19820 non-null float64\n",
      "DP                19820 non-null float64\n",
      "PB                19820 non-null float64\n",
      "SB_y              19820 non-null float64\n",
      "CS_y              19820 non-null float64\n",
      "salary            19820 non-null float64\n",
      "MinSalaries       19820 non-null float64\n",
      "adjSalary         19820 non-null float64\n",
      "adjMinSalaries    19820 non-null float64\n",
      "adjSalary2        19820 non-null float64\n",
      "Bavg              19820 non-null float64\n",
      "Slug              19820 non-null float64\n",
      "OBP               19820 non-null float64\n",
      "FPct              19820 non-null float64\n",
      "debutYear         19820 non-null float64\n",
      "seasonNum         19820 non-null float64\n",
      "yearID            19820 non-null int64\n",
      "playerID          19820 non-null object\n",
      "Primary           19820 non-null object\n",
      "dtypes: float64(39), int64(1), object(2)\n",
      "memory usage: 6.4+ MB\n",
      "None\n",
      "<class 'pandas.core.frame.DataFrame'>\n",
      "RangeIndex: 4528 entries, 0 to 4527\n",
      "Data columns (total 42 columns):\n",
      "G_x               4528 non-null int64\n",
      "AB                4528 non-null int64\n",
      "R                 4528 non-null int64\n",
      "H                 4528 non-null int64\n",
      "2B                4528 non-null int64\n",
      "3B                4528 non-null int64\n",
      "HR                4528 non-null int64\n",
      "RBI               4528 non-null float64\n",
      "SB_x              4528 non-null float64\n",
      "CS_x              4528 non-null float64\n",
      "BB                4528 non-null int64\n",
      "SO                4528 non-null float64\n",
      "IBB               4528 non-null float64\n",
      "HBP               4528 non-null float64\n",
      "SH                4528 non-null float64\n",
      "SF                4528 non-null float64\n",
      "GIDP              4528 non-null float64\n",
      "stint             4528 non-null float64\n",
      "G_y               4528 non-null float64\n",
      "GS                4528 non-null float64\n",
      "InnOuts           4528 non-null float64\n",
      "PO                4528 non-null float64\n",
      "A                 4528 non-null float64\n",
      "E                 4528 non-null float64\n",
      "DP                4528 non-null float64\n",
      "PB                4528 non-null float64\n",
      "SB_y              4528 non-null float64\n",
      "CS_y              4528 non-null float64\n",
      "salary            4528 non-null float64\n",
      "MinSalaries       4528 non-null float64\n",
      "adjSalary         4528 non-null float64\n",
      "adjMinSalaries    4528 non-null float64\n",
      "adjSalary2        4528 non-null float64\n",
      "Bavg              4528 non-null float64\n",
      "Slug              4528 non-null float64\n",
      "OBP               4528 non-null float64\n",
      "FPct              4528 non-null float64\n",
      "debutYear         4528 non-null int64\n",
      "seasonNum         4528 non-null int64\n",
      "yearID            4528 non-null int64\n",
      "playerID          4528 non-null object\n",
      "Primary           4528 non-null object\n",
      "dtypes: float64(29), int64(11), object(2)\n",
      "memory usage: 1.5+ MB\n",
      "None\n"
     ]
    }
   ],
   "source": [
    "print(player.info())\n",
    "print(playerNoSal.info())\n",
    "print(playerScale.info())\n",
    "print(playerNoSalScale.info())"
   ]
  },
  {
   "cell_type": "code",
   "execution_count": 4,
   "metadata": {},
   "outputs": [],
   "source": [
    "#Seperate Predicter \n",
    "X = playerScale.drop(['Primary', 'playerID'], axis=1)\n",
    "y = playerScale['Primary']\n",
    "yhat = np.empty(y.shape, dtype=str)"
   ]
  },
  {
   "cell_type": "code",
   "execution_count": 5,
   "metadata": {},
   "outputs": [],
   "source": [
    "for feature in X.columns: \n",
    "    if X[feature].dtype == 'object': \n",
    "        X[feature] = pd.Categorical(combined_set[feature]).codes "
   ]
  },
  {
   "cell_type": "code",
   "execution_count": 6,
   "metadata": {},
   "outputs": [
    {
     "name": "stdout",
     "output_type": "stream",
     "text": [
      "<class 'pandas.core.frame.DataFrame'>\n",
      "RangeIndex: 19820 entries, 0 to 19819\n",
      "Data columns (total 40 columns):\n",
      "G_x               19820 non-null float64\n",
      "AB                19820 non-null float64\n",
      "R                 19820 non-null float64\n",
      "H                 19820 non-null float64\n",
      "2B                19820 non-null float64\n",
      "3B                19820 non-null float64\n",
      "HR                19820 non-null float64\n",
      "RBI               19820 non-null float64\n",
      "SB_x              19820 non-null float64\n",
      "CS_x              19820 non-null float64\n",
      "BB                19820 non-null float64\n",
      "SO                19820 non-null float64\n",
      "IBB               19820 non-null float64\n",
      "HBP               19820 non-null float64\n",
      "SH                19820 non-null float64\n",
      "SF                19820 non-null float64\n",
      "GIDP              19820 non-null float64\n",
      "stint             19820 non-null float64\n",
      "G_y               19820 non-null float64\n",
      "GS                19820 non-null float64\n",
      "InnOuts           19820 non-null float64\n",
      "PO                19820 non-null float64\n",
      "A                 19820 non-null float64\n",
      "E                 19820 non-null float64\n",
      "DP                19820 non-null float64\n",
      "PB                19820 non-null float64\n",
      "SB_y              19820 non-null float64\n",
      "CS_y              19820 non-null float64\n",
      "salary            19820 non-null float64\n",
      "MinSalaries       19820 non-null float64\n",
      "adjSalary         19820 non-null float64\n",
      "adjMinSalaries    19820 non-null float64\n",
      "adjSalary2        19820 non-null float64\n",
      "Bavg              19820 non-null float64\n",
      "Slug              19820 non-null float64\n",
      "OBP               19820 non-null float64\n",
      "FPct              19820 non-null float64\n",
      "debutYear         19820 non-null float64\n",
      "seasonNum         19820 non-null float64\n",
      "yearID            19820 non-null int64\n",
      "dtypes: float64(39), int64(1)\n",
      "memory usage: 6.0 MB\n"
     ]
    }
   ],
   "source": [
    "X.info()"
   ]
  },
  {
   "cell_type": "code",
   "execution_count": 7,
   "metadata": {},
   "outputs": [],
   "source": [
    "X_train, X_test, y_train, y_test = train_test_split(X, y, test_size=0.2, random_state=42)"
   ]
  },
  {
   "cell_type": "code",
   "execution_count": 8,
   "metadata": {},
   "outputs": [],
   "source": [
    "import xgboost as xgb\n",
    "from sklearn.metrics import accuracy_score\n"
   ]
  },
  {
   "cell_type": "markdown",
   "metadata": {},
   "source": [
    "# Simple XGBoost Model"
   ]
  },
  {
   "cell_type": "code",
   "execution_count": 9,
   "metadata": {
    "scrolled": true
   },
   "outputs": [
    {
     "data": {
      "text/plain": [
       "XGBClassifier(base_score=0.5, booster='gbtree', colsample_bylevel=1,\n",
       "       colsample_bytree=1, gamma=0, learning_rate=0.1, max_delta_step=0,\n",
       "       max_depth=3, min_child_weight=1, missing=None, n_estimators=100,\n",
       "       n_jobs=1, nthread=None, objective='multi:softprob', random_state=0,\n",
       "       reg_alpha=0, reg_lambda=1, scale_pos_weight=1, seed=None,\n",
       "       silent=True, subsample=1)"
      ]
     },
     "execution_count": 9,
     "metadata": {},
     "output_type": "execute_result"
    }
   ],
   "source": [
    "xgbModel = XGBClassifier()\n",
    "xgbModel.fit(X_train, y_train)"
   ]
  },
  {
   "cell_type": "code",
   "execution_count": 10,
   "metadata": {},
   "outputs": [
    {
     "name": "stderr",
     "output_type": "stream",
     "text": [
      "/home/george_sturrock/anaconda3/lib/python3.5/site-packages/sklearn/preprocessing/label.py:151: DeprecationWarning: The truth value of an empty array is ambiguous. Returning False, but in future this will result in an error. Use `array.size > 0` to check that an array is not empty.\n",
      "  if diff:\n"
     ]
    }
   ],
   "source": [
    "y_pred = xgbModel.predict(X_test)"
   ]
  },
  {
   "cell_type": "code",
   "execution_count": 11,
   "metadata": {},
   "outputs": [
    {
     "name": "stdout",
     "output_type": "stream",
     "text": [
      "The Accuracy of the XGBoost Model: 87.89%\n"
     ]
    }
   ],
   "source": [
    "accuracy = accuracy_score(y_test, y_pred)\n",
    "print(\"The Accuracy of the XGBoost Model: %.2f%%\" % (accuracy * 100.0))"
   ]
  },
  {
   "cell_type": "code",
   "execution_count": 12,
   "metadata": {},
   "outputs": [
    {
     "ename": "ValueError",
     "evalue": "could not convert string to float: 'OF'",
     "output_type": "error",
     "traceback": [
      "\u001b[0;31m---------------------------------------------------------------------------\u001b[0m",
      "\u001b[0;31mValueError\u001b[0m                                Traceback (most recent call last)",
      "\u001b[0;32m<ipython-input-12-8454cca2422c>\u001b[0m in \u001b[0;36m<module>\u001b[0;34m()\u001b[0m\n\u001b[1;32m      1\u001b[0m \u001b[0;31m# Now with cross validation\u001b[0m\u001b[0;34m\u001b[0m\u001b[0;34m\u001b[0m\u001b[0m\n\u001b[0;32m----> 2\u001b[0;31m \u001b[0mDM_train\u001b[0m \u001b[0;34m=\u001b[0m \u001b[0mxgb\u001b[0m\u001b[0;34m.\u001b[0m\u001b[0mDMatrix\u001b[0m\u001b[0;34m(\u001b[0m\u001b[0mX_train\u001b[0m\u001b[0;34m.\u001b[0m\u001b[0mvalues\u001b[0m\u001b[0;34m,\u001b[0m \u001b[0my_train\u001b[0m\u001b[0;34m.\u001b[0m\u001b[0mvalues\u001b[0m\u001b[0;34m)\u001b[0m\u001b[0;34m\u001b[0m\u001b[0m\n\u001b[0m\u001b[1;32m      3\u001b[0m \u001b[0mDM_test\u001b[0m \u001b[0;34m=\u001b[0m  \u001b[0mxgb\u001b[0m\u001b[0;34m.\u001b[0m\u001b[0mDMatrix\u001b[0m\u001b[0;34m(\u001b[0m\u001b[0mX_test\u001b[0m\u001b[0;34m,\u001b[0m\u001b[0my_test\u001b[0m\u001b[0;34m)\u001b[0m\u001b[0;34m\u001b[0m\u001b[0m\n\u001b[1;32m      4\u001b[0m \u001b[0;34m\u001b[0m\u001b[0m\n\u001b[1;32m      5\u001b[0m gbm_param_grid = {\n",
      "\u001b[0;32m~/anaconda3/lib/python3.5/site-packages/xgboost/core.py\u001b[0m in \u001b[0;36m__init__\u001b[0;34m(self, data, label, missing, weight, silent, feature_names, feature_types, nthread)\u001b[0m\n\u001b[1;32m    285\u001b[0m         \u001b[0;32mif\u001b[0m \u001b[0mlabel\u001b[0m \u001b[0;32mis\u001b[0m \u001b[0;32mnot\u001b[0m \u001b[0;32mNone\u001b[0m\u001b[0;34m:\u001b[0m\u001b[0;34m\u001b[0m\u001b[0m\n\u001b[1;32m    286\u001b[0m             \u001b[0;32mif\u001b[0m \u001b[0misinstance\u001b[0m\u001b[0;34m(\u001b[0m\u001b[0mdata\u001b[0m\u001b[0;34m,\u001b[0m \u001b[0mnp\u001b[0m\u001b[0;34m.\u001b[0m\u001b[0mndarray\u001b[0m\u001b[0;34m)\u001b[0m\u001b[0;34m:\u001b[0m\u001b[0;34m\u001b[0m\u001b[0m\n\u001b[0;32m--> 287\u001b[0;31m                 \u001b[0mself\u001b[0m\u001b[0;34m.\u001b[0m\u001b[0mset_label_npy2d\u001b[0m\u001b[0;34m(\u001b[0m\u001b[0mlabel\u001b[0m\u001b[0;34m)\u001b[0m\u001b[0;34m\u001b[0m\u001b[0m\n\u001b[0m\u001b[1;32m    288\u001b[0m             \u001b[0;32melse\u001b[0m\u001b[0;34m:\u001b[0m\u001b[0;34m\u001b[0m\u001b[0m\n\u001b[1;32m    289\u001b[0m                 \u001b[0mself\u001b[0m\u001b[0;34m.\u001b[0m\u001b[0mset_label\u001b[0m\u001b[0;34m(\u001b[0m\u001b[0mlabel\u001b[0m\u001b[0;34m)\u001b[0m\u001b[0;34m\u001b[0m\u001b[0m\n",
      "\u001b[0;32m~/anaconda3/lib/python3.5/site-packages/xgboost/core.py\u001b[0m in \u001b[0;36mset_label_npy2d\u001b[0;34m(self, label)\u001b[0m\n\u001b[1;32m    495\u001b[0m             \u001b[0;32mfrom\u001b[0m \u001b[0mnumpy\u001b[0m \u001b[0;36m2\u001b[0m\u001b[0mD\u001b[0m \u001b[0marray\u001b[0m\u001b[0;34m\u001b[0m\u001b[0m\n\u001b[1;32m    496\u001b[0m         \"\"\"\n\u001b[0;32m--> 497\u001b[0;31m         \u001b[0mself\u001b[0m\u001b[0;34m.\u001b[0m\u001b[0mset_float_info_npy2d\u001b[0m\u001b[0;34m(\u001b[0m\u001b[0;34m'label'\u001b[0m\u001b[0;34m,\u001b[0m \u001b[0mlabel\u001b[0m\u001b[0;34m)\u001b[0m\u001b[0;34m\u001b[0m\u001b[0m\n\u001b[0m\u001b[1;32m    498\u001b[0m \u001b[0;34m\u001b[0m\u001b[0m\n\u001b[1;32m    499\u001b[0m     \u001b[0;32mdef\u001b[0m \u001b[0mset_weight\u001b[0m\u001b[0;34m(\u001b[0m\u001b[0mself\u001b[0m\u001b[0;34m,\u001b[0m \u001b[0mweight\u001b[0m\u001b[0;34m)\u001b[0m\u001b[0;34m:\u001b[0m\u001b[0;34m\u001b[0m\u001b[0m\n",
      "\u001b[0;32m~/anaconda3/lib/python3.5/site-packages/xgboost/core.py\u001b[0m in \u001b[0;36mset_float_info_npy2d\u001b[0;34m(self, field, data)\u001b[0m\n\u001b[1;32m    439\u001b[0m             \u001b[0mThe\u001b[0m \u001b[0marray\u001b[0m \u001b[0mof\u001b[0m \u001b[0mdata\u001b[0m \u001b[0mto\u001b[0m \u001b[0mbe\u001b[0m \u001b[0mset\u001b[0m\u001b[0;34m\u001b[0m\u001b[0m\n\u001b[1;32m    440\u001b[0m         \"\"\"\n\u001b[0;32m--> 441\u001b[0;31m         \u001b[0mdata\u001b[0m \u001b[0;34m=\u001b[0m \u001b[0mnp\u001b[0m\u001b[0;34m.\u001b[0m\u001b[0marray\u001b[0m\u001b[0;34m(\u001b[0m\u001b[0mdata\u001b[0m\u001b[0;34m,\u001b[0m \u001b[0mcopy\u001b[0m\u001b[0;34m=\u001b[0m\u001b[0;32mFalse\u001b[0m\u001b[0;34m,\u001b[0m \u001b[0mdtype\u001b[0m\u001b[0;34m=\u001b[0m\u001b[0mnp\u001b[0m\u001b[0;34m.\u001b[0m\u001b[0mfloat32\u001b[0m\u001b[0;34m)\u001b[0m\u001b[0;34m\u001b[0m\u001b[0m\n\u001b[0m\u001b[1;32m    442\u001b[0m         \u001b[0mc_data\u001b[0m \u001b[0;34m=\u001b[0m \u001b[0mdata\u001b[0m\u001b[0;34m.\u001b[0m\u001b[0mctypes\u001b[0m\u001b[0;34m.\u001b[0m\u001b[0mdata_as\u001b[0m\u001b[0;34m(\u001b[0m\u001b[0mctypes\u001b[0m\u001b[0;34m.\u001b[0m\u001b[0mPOINTER\u001b[0m\u001b[0;34m(\u001b[0m\u001b[0mctypes\u001b[0m\u001b[0;34m.\u001b[0m\u001b[0mc_float\u001b[0m\u001b[0;34m)\u001b[0m\u001b[0;34m)\u001b[0m\u001b[0;34m\u001b[0m\u001b[0m\n\u001b[1;32m    443\u001b[0m         _check_call(_LIB.XGDMatrixSetFloatInfo(self.handle,\n",
      "\u001b[0;31mValueError\u001b[0m: could not convert string to float: 'OF'"
     ]
    }
   ],
   "source": [
    "# Now with cross validation \n",
    "DM_train = xgb.DMatrix(X_train.values, y_train.values) \n",
    "DM_test =  xgb.DMatrix(X_test,y_test)\n",
    "\n",
    "gbm_param_grid = {\n",
    "     'colsample_bytree': np.linspace(0.5, 0.9, 5),\n",
    "     'n_estimators':[100, 200]\n",
    "}\n",
    "\n",
    "gbm = xgb.XGBRegressor()\n",
    "gbm_grid = GridSearchCV(estimator = gbm, param_grid = gbm_param_grid, scoring = 'neg_mean_squared_error', cv = 10, verbose = 1)\n",
    "gbm_grid.fit(X_train, y_train)\n",
    "\n",
    "print(\"Best parameters found: \",grid_mse.best_params_)\n",
    "print(\"Lowest RMSE found: \", np.sqrt(np.abs(grid_mse.best_score_)))\n",
    "print(\"Best score: %s\" % (grid_mse.best_score_))\n",
    "\n",
    "\n",
    "\n",
    "pred = gbm_grid.predict(X_test)\n",
    "accuracy = accuracy_score(y_test, pred)\n",
    "print(\"The Accuracy of the XGBoost Model With Cross-Validation: %.2f%%\" % (accuracy * 100.0))"
   ]
  },
  {
   "cell_type": "code",
   "execution_count": null,
   "metadata": {},
   "outputs": [],
   "source": [
    "from sklearn.cross_validation import StratifiedShuffleSplit\n",
    "cv = StratifiedShuffleSplit(y,n_iter = 10, test_size=0.2, train_size = 0.8)\n",
    "gbm = xgb.XGBRegressor()\n",
    "gbm_param_grid = {\n",
    "     'colsample_bytree': np.linspace(0.5, 0.9, 5),\n",
    "     'n_estimators':[100, 200]\n",
    "}\n",
    "gbm_grid = GridSearchCV(estimator = gbm, param_grid = gbm_param_grid, scoring = 'neg_mean_squared_error', cv = 10, verbose = 1)\n",
    "\n",
    "for traindx, testdx in cv:\n",
    "    X_train = X[traindx]\n",
    "    X_test= X[testdx]\n",
    "    y_train = y[traindx]\n",
    "    y_test = t[testdx]\n",
    "    gbm_grid.fit(X_train, y_train)"
   ]
  },
  {
   "cell_type": "code",
   "execution_count": null,
   "metadata": {},
   "outputs": [],
   "source": []
  }
 ],
 "metadata": {
  "kernelspec": {
   "display_name": "Python 3",
   "language": "python",
   "name": "python3"
  },
  "language_info": {
   "codemirror_mode": {
    "name": "ipython",
    "version": 3
   },
   "file_extension": ".py",
   "mimetype": "text/x-python",
   "name": "python",
   "nbconvert_exporter": "python",
   "pygments_lexer": "ipython3",
   "version": "3.5.5"
  }
 },
 "nbformat": 4,
 "nbformat_minor": 2
}
