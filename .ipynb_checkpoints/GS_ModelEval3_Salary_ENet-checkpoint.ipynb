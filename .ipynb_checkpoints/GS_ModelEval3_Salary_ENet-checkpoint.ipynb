{
 "cells": [
  {
   "cell_type": "markdown",
   "metadata": {},
   "source": [
    "## Model and Evaluation 3"
   ]
  },
  {
   "cell_type": "code",
   "execution_count": 1,
   "metadata": {
    "scrolled": true
   },
   "outputs": [
    {
     "name": "stdout",
     "output_type": "stream",
     "text": [
      "<class 'pandas.core.frame.DataFrame'>\n",
      "RangeIndex: 19820 entries, 0 to 19819\n",
      "Data columns (total 46 columns):\n",
      "Unnamed: 0             19820 non-null int64\n",
      "playerID               19820 non-null object\n",
      "yearID                 19820 non-null int64\n",
      "G_x                    19820 non-null int64\n",
      "AB                     19820 non-null int64\n",
      "R                      19820 non-null int64\n",
      "H                      19820 non-null int64\n",
      "2B                     19820 non-null int64\n",
      "3B                     19820 non-null int64\n",
      "HR                     19820 non-null int64\n",
      "RBI                    19820 non-null float64\n",
      "SB_x                   19820 non-null float64\n",
      "CS_x                   19820 non-null float64\n",
      "BB                     19820 non-null int64\n",
      "SO                     19820 non-null float64\n",
      "IBB                    19820 non-null float64\n",
      "HBP                    19820 non-null float64\n",
      "SH                     19820 non-null float64\n",
      "SF                     19820 non-null float64\n",
      "GIDP                   19820 non-null float64\n",
      "stint                  19820 non-null float64\n",
      "G_y                    19820 non-null float64\n",
      "GS                     19820 non-null float64\n",
      "InnOuts                19820 non-null float64\n",
      "PO                     19820 non-null float64\n",
      "A                      19820 non-null float64\n",
      "E                      19820 non-null float64\n",
      "DP                     19820 non-null float64\n",
      "PB                     19820 non-null float64\n",
      "SB_y                   19820 non-null float64\n",
      "CS_y                   19820 non-null float64\n",
      "Primary                19820 non-null object\n",
      "salary                 19820 non-null float64\n",
      "Annual Average         19820 non-null float64\n",
      "AnnualPercentChange    19820 non-null object\n",
      "Mult2017               19820 non-null float64\n",
      "MinSalaries            19820 non-null float64\n",
      "adjSalary              19820 non-null float64\n",
      "adjMinSalaries         19820 non-null float64\n",
      "adjSalary2             19820 non-null float64\n",
      "Bavg                   19820 non-null float64\n",
      "Slug                   19820 non-null float64\n",
      "OBP                    19820 non-null float64\n",
      "FPct                   19820 non-null float64\n",
      "debutYear              19820 non-null int64\n",
      "seasonNum              19820 non-null int64\n",
      "dtypes: float64(31), int64(12), object(3)\n",
      "memory usage: 7.0+ MB\n",
      "None\n",
      "<class 'pandas.core.frame.DataFrame'>\n",
      "RangeIndex: 13682 entries, 0 to 13681\n",
      "Data columns (total 46 columns):\n",
      "Unnamed: 0             13682 non-null int64\n",
      "playerID               13682 non-null object\n",
      "yearID                 13682 non-null int64\n",
      "G_x                    13682 non-null int64\n",
      "AB                     13682 non-null int64\n",
      "R                      13682 non-null int64\n",
      "H                      13682 non-null int64\n",
      "2B                     13682 non-null int64\n",
      "3B                     13682 non-null int64\n",
      "HR                     13682 non-null int64\n",
      "RBI                    13682 non-null float64\n",
      "SB_x                   13682 non-null float64\n",
      "CS_x                   13682 non-null float64\n",
      "BB                     13682 non-null int64\n",
      "SO                     13682 non-null float64\n",
      "IBB                    13682 non-null float64\n",
      "HBP                    13682 non-null float64\n",
      "SH                     13682 non-null float64\n",
      "SF                     13682 non-null float64\n",
      "GIDP                   13682 non-null float64\n",
      "stint                  13682 non-null float64\n",
      "G_y                    13682 non-null float64\n",
      "GS                     13682 non-null float64\n",
      "InnOuts                13682 non-null float64\n",
      "PO                     13682 non-null float64\n",
      "A                      13682 non-null float64\n",
      "E                      13682 non-null float64\n",
      "DP                     13682 non-null float64\n",
      "PB                     13682 non-null float64\n",
      "SB_y                   13682 non-null float64\n",
      "CS_y                   13682 non-null float64\n",
      "Primary                13682 non-null object\n",
      "salary                 13682 non-null float64\n",
      "Annual Average         13682 non-null float64\n",
      "AnnualPercentChange    13682 non-null object\n",
      "Mult2017               13682 non-null float64\n",
      "MinSalaries            13682 non-null float64\n",
      "adjSalary              13682 non-null float64\n",
      "adjMinSalaries         13682 non-null float64\n",
      "adjSalary2             13682 non-null float64\n",
      "Bavg                   13682 non-null float64\n",
      "Slug                   13682 non-null float64\n",
      "OBP                    13682 non-null float64\n",
      "FPct                   13682 non-null float64\n",
      "debutYear              13682 non-null int64\n",
      "seasonNum              13682 non-null int64\n",
      "dtypes: float64(31), int64(12), object(3)\n",
      "memory usage: 4.8+ MB\n",
      "None\n",
      "<class 'pandas.core.frame.DataFrame'>\n",
      "RangeIndex: 4528 entries, 0 to 4527\n",
      "Data columns (total 43 columns):\n",
      "Unnamed: 0        4528 non-null int64\n",
      "G_x               4528 non-null int64\n",
      "AB                4528 non-null int64\n",
      "R                 4528 non-null int64\n",
      "H                 4528 non-null int64\n",
      "2B                4528 non-null int64\n",
      "3B                4528 non-null int64\n",
      "HR                4528 non-null int64\n",
      "RBI               4528 non-null float64\n",
      "SB_x              4528 non-null float64\n",
      "CS_x              4528 non-null float64\n",
      "BB                4528 non-null int64\n",
      "SO                4528 non-null float64\n",
      "IBB               4528 non-null float64\n",
      "HBP               4528 non-null float64\n",
      "SH                4528 non-null float64\n",
      "SF                4528 non-null float64\n",
      "GIDP              4528 non-null float64\n",
      "stint             4528 non-null float64\n",
      "G_y               4528 non-null float64\n",
      "GS                4528 non-null float64\n",
      "InnOuts           4528 non-null float64\n",
      "PO                4528 non-null float64\n",
      "A                 4528 non-null float64\n",
      "E                 4528 non-null float64\n",
      "DP                4528 non-null float64\n",
      "PB                4528 non-null float64\n",
      "SB_y              4528 non-null float64\n",
      "CS_y              4528 non-null float64\n",
      "salary            4528 non-null float64\n",
      "MinSalaries       4528 non-null float64\n",
      "adjSalary         4528 non-null float64\n",
      "adjMinSalaries    4528 non-null float64\n",
      "adjSalary2        4528 non-null float64\n",
      "Bavg              4528 non-null float64\n",
      "Slug              4528 non-null float64\n",
      "OBP               4528 non-null float64\n",
      "FPct              4528 non-null float64\n",
      "debutYear         4528 non-null int64\n",
      "seasonNum         4528 non-null int64\n",
      "yearID            4528 non-null int64\n",
      "playerID          4528 non-null object\n",
      "Primary           4528 non-null object\n",
      "dtypes: float64(29), int64(12), object(2)\n",
      "memory usage: 1.5+ MB\n",
      "None\n",
      "Pct Playing < 17 games: 0.16\n",
      "Pct with Salary Playing < 17 games: 0.05\n"
     ]
    }
   ],
   "source": [
    "import pandas as pd\n",
    "import numpy as np\n",
    "import seaborn as sns\n",
    "import yellowbrick as yb\n",
    "from matplotlib import pyplot as plt\n",
    "from statsmodels.stats.outliers_influence import OLSInfluence\n",
    "from sklearn.linear_model import ElasticNet, ElasticNetCV\n",
    "from sklearn.model_selection import GridSearchCV, ParameterGrid\n",
    "from sklearn import metrics as mt\n",
    "\n",
    "import warnings\n",
    "warnings.filterwarnings('ignore')\n",
    "\n",
    "player = pd.read_csv('~/7331_Lab2/data/player.csv')\n",
    "playerNoSal = pd.read_csv('~/7331_Lab2/data/playerNoSal.csv')\n",
    "playerScale = pd.read_csv('~/7331_Lab2/data/playerscale.csv')\n",
    "playerNoSalScale = pd.read_csv('~/7331_Lab2/data/playerNoSalscale.csv')\n",
    "\n",
    "print(player.info())\n",
    "print(playerNoSal.info())\n",
    "print(playerNoSalScale.info())\n",
    "\n",
    "playerNoSalG = playerNoSal[playerNoSal.G_x > 16]\n",
    "playerG = player[player.G_x > 16]\n",
    "\n",
    "print(\"Pct Playing < 17 games:\", round(((len(player) - len(playerG)) / len(player)), 2))\n",
    "print(\"Pct with Salary Playing < 17 games:\", round(((len(playerNoSal) - len(playerNoSalG)) / len(playerNoSal)), 2))"
   ]
  },
  {
   "cell_type": "markdown",
   "metadata": {},
   "source": [
    "### ElasticNet Feature Reduction"
   ]
  },
  {
   "cell_type": "markdown",
   "metadata": {},
   "source": [
    "#### Drop Columns with Limited Predictive Ability for ElasticNet Model"
   ]
  },
  {
   "cell_type": "code",
   "execution_count": 2,
   "metadata": {},
   "outputs": [
    {
     "name": "stdout",
     "output_type": "stream",
     "text": [
      "<class 'pandas.core.frame.DataFrame'>\n",
      "RangeIndex: 13682 entries, 0 to 13681\n",
      "Data columns (total 37 columns):\n",
      "yearID        13682 non-null int64\n",
      "G_x           13682 non-null int64\n",
      "AB            13682 non-null int64\n",
      "R             13682 non-null int64\n",
      "H             13682 non-null int64\n",
      "2B            13682 non-null int64\n",
      "3B            13682 non-null int64\n",
      "HR            13682 non-null int64\n",
      "RBI           13682 non-null float64\n",
      "SB_x          13682 non-null float64\n",
      "CS_x          13682 non-null float64\n",
      "BB            13682 non-null int64\n",
      "SO            13682 non-null float64\n",
      "IBB           13682 non-null float64\n",
      "HBP           13682 non-null float64\n",
      "SH            13682 non-null float64\n",
      "SF            13682 non-null float64\n",
      "GIDP          13682 non-null float64\n",
      "stint         13682 non-null float64\n",
      "G_y           13682 non-null float64\n",
      "GS            13682 non-null float64\n",
      "InnOuts       13682 non-null float64\n",
      "PO            13682 non-null float64\n",
      "A             13682 non-null float64\n",
      "E             13682 non-null float64\n",
      "DP            13682 non-null float64\n",
      "PB            13682 non-null float64\n",
      "SB_y          13682 non-null float64\n",
      "CS_y          13682 non-null float64\n",
      "Primary       13682 non-null object\n",
      "adjSalary2    13682 non-null float64\n",
      "Bavg          13682 non-null float64\n",
      "Slug          13682 non-null float64\n",
      "OBP           13682 non-null float64\n",
      "FPct          13682 non-null float64\n",
      "debutYear     13682 non-null int64\n",
      "seasonNum     13682 non-null int64\n",
      "dtypes: float64(25), int64(11), object(1)\n",
      "memory usage: 3.9+ MB\n",
      "None\n"
     ]
    }
   ],
   "source": [
    "player = player.drop([\"Unnamed: 0\", \"Annual Average\", \"AnnualPercentChange\", \"Mult2017\", \"MinSalaries\", \"adjSalary\", \"adjMinSalaries\", \"salary\", \"playerID\"], axis=1)\n",
    "playerNoSal = playerNoSal.drop([\"Unnamed: 0\", \"Annual Average\", \"AnnualPercentChange\", \"Mult2017\", \"MinSalaries\", \"adjSalary\", \"adjMinSalaries\", \"salary\", \"playerID\"], axis=1)\n",
    "\n",
    "playerG = playerG.drop([\"Unnamed: 0\", \"Annual Average\", \"AnnualPercentChange\", \"Mult2017\", \"MinSalaries\", \"adjSalary\", \"adjMinSalaries\", \"salary\", \"playerID\"], axis=1)\n",
    "playerNoSalG = playerNoSalG.drop([\"Unnamed: 0\", \"Annual Average\", \"AnnualPercentChange\", \"Mult2017\", \"MinSalaries\", \"adjSalary\", \"adjMinSalaries\", \"salary\", \"playerID\"], axis=1)\n",
    "#playerNoSalScale = playerNoSalScale.drop([\"MinSalaries\", \"adjSalary\", \"adjMinSalaries\", \"salary\"], axis=1)\n",
    "print(playerNoSal.info())"
   ]
  },
  {
   "cell_type": "markdown",
   "metadata": {},
   "source": [
    "#### ElasticNet PreModel Data Validation\n",
    "The inflation adjusted salary plotted below is heavily right skewed.  The ElasticNet model requires a normally distributed response variable to function correctly.  The log transformed adjusted salary plot shows a fairly normalized distribution of adjusted salary.  "
   ]
  },
  {
   "cell_type": "code",
   "execution_count": 3,
   "metadata": {},
   "outputs": [
    {
     "data": {
      "text/plain": [
       "Text(0.5,1,'Log Transformed')"
      ]
     },
     "execution_count": 3,
     "metadata": {},
     "output_type": "execute_result"
    },
    {
     "data": {
      "image/png": "[encoded data removed]",
      "text/plain": [
       "<Figure size 1080x360 with 2 Axes>"
      ]
     },
     "metadata": {},
     "output_type": "display_data"
    }
   ],
   "source": [
    "fig, ax =plt.subplots(1,2, figsize=(15,5))\n",
    "sns.distplot(playerNoSal.adjSalary2, ax=ax[0]).set_title(\"No Transformation\")\n",
    "\n",
    "#plot log transformed adjSalary2\n",
    "logas2 = playerNoSal['adjSalary2'].apply(np.log)\n",
    "sns.distplot(logas2, ax=ax[1]).set_title(\"Log Transformed\")"
   ]
  },
  {
   "cell_type": "code",
   "execution_count": 25,
   "metadata": {},
   "outputs": [
    {
     "name": "stdout",
     "output_type": "stream",
     "text": [
      "<class 'numpy.ndarray'>\n"
     ]
    }
   ],
   "source": [
    "#Set Explanatory and Response\n",
    "#X = playerNoSal\n",
    "X = playerNoSalG\n",
    "X = X.drop([\"adjSalary2\"], axis=1)\n",
    "#Convert Position to Integer\n",
    "X['Primary'] = X['Primary'].map({'1B':3, '2B':4, '3B':5, 'C':2, 'SS':6, 'OF':7, 'DH':10})\n",
    "XDF = X\n",
    "\n",
    "##Log Transformations\n",
    "#colnames = X.columns\n",
    "#\n",
    "#for c in colnames:\n",
    "#    if (c != \"yearID\" and c != \"Primary\" and c != \"G_x\" and c != \"G_y\"):\n",
    "#        X[c] = X[c].apply(np.log)\n",
    "#\n",
    "#print(X.describe())\n",
    "#XDFLog = X\n",
    "\n",
    "X = X.values\n",
    "\n",
    "print(type(X))\n",
    "\n",
    "#y = playerNoSal.adjSalary2\n",
    "y = playerNoSalG.adjSalary2\n",
    "y = y.apply(np.log)\n",
    "yDF = y\n",
    "y = y.values\n",
    "\n",
    "yhat = np.empty(y.shape, dtype=float)"
   ]
  },
  {
   "cell_type": "markdown",
   "metadata": {},
   "source": [
    "#### ElasticNet Parameter Selection\n",
    "GridSearchCV is used to assist with determining the optimal combination of alpha level and L1 Ratio for the ElasticNet model.  Ten fold cross validation is used for this task.  Mean Squared Error is the measurement used to score the various combinations identified by GridSearchCV."
   ]
  },
  {
   "cell_type": "code",
   "execution_count": 15,
   "metadata": {},
   "outputs": [
    {
     "name": "stdout",
     "output_type": "stream",
     "text": [
      "[{'alpha': [0, 0.1, 0.2, 0.3, 0.4, 0.5, 0.6, 0.7, 0.8, 0.9, 1], 'l1_ratio': [0, 1]}]\n",
      "Fitting 10 folds for each of 22 candidates, totalling 220 fits\n"
     ]
    },
    {
     "name": "stderr",
     "output_type": "stream",
     "text": [
      "[Parallel(n_jobs=10)]: Done  30 tasks      | elapsed:   11.7s\n",
      "[Parallel(n_jobs=10)]: Done 180 tasks      | elapsed:   49.7s\n",
      "[Parallel(n_jobs=10)]: Done 220 out of 220 | elapsed:   59.0s finished\n"
     ]
    },
    {
     "data": {
      "text/plain": [
       "GridSearchCV(cv=10, error_score='raise',\n",
       "       estimator=ElasticNet(alpha=1.0, copy_X=True, fit_intercept=True, l1_ratio=0.5,\n",
       "      max_iter=1000, normalize=False, positive=False, precompute=False,\n",
       "      random_state=None, selection='cyclic', tol=0.0001, warm_start=False),\n",
       "       fit_params=None, iid=True, n_jobs=10,\n",
       "       param_grid=[{'alpha': [0, 0.1, 0.2, 0.3, 0.4, 0.5, 0.6, 0.7, 0.8, 0.9, 1], 'l1_ratio': [0, 1]}],\n",
       "       pre_dispatch='2*n_jobs', refit=True, return_train_score='warn',\n",
       "       scoring='mean_squared_error', verbose=1)"
      ]
     },
     "execution_count": 15,
     "metadata": {},
     "output_type": "execute_result"
    }
   ],
   "source": [
    "myAlphas = [0, 0.1, 0.2, 0.3, 0.4, 0.5, 0.6, 0.7, 0.8, 0.9, 1]\n",
    "myL1R = [0, 1]\n",
    "parms = {'alpha': [myAlphas], 'l1_ratio': [myL1R]}\n",
    "parmGrid = list(ParameterGrid(parms))\n",
    "print(parmGrid)\n",
    "\n",
    "gscv = GridSearchCV(estimator=ElasticNet(), n_jobs=10, cv=10, verbose=1, param_grid = parmGrid, scoring='mean_squared_error')\n",
    "gscv.fit(X_train, y_train)"
   ]
  },
  {
   "cell_type": "markdown",
   "metadata": {},
   "source": [
    "The GridSearchCV procedure identified an alpha level of 0 with L1 Ratio of 0 as the best model for this data set."
   ]
  },
  {
   "cell_type": "code",
   "execution_count": 16,
   "metadata": {},
   "outputs": [
    {
     "name": "stdout",
     "output_type": "stream",
     "text": [
      "Best Estimator: ElasticNet(alpha=0, copy_X=True, fit_intercept=True, l1_ratio=0,\n",
      "      max_iter=1000, normalize=False, positive=False, precompute=False,\n",
      "      random_state=None, selection='cyclic', tol=0.0001, warm_start=False)\n",
      "Best Parameters: {'alpha': 0, 'l1_ratio': 0}\n",
      "Best Score: -0.5947032728365311\n"
     ]
    }
   ],
   "source": [
    "print(\"Best Estimator:\", gscv.best_estimator_)\n",
    "print(\"Best Parameters:\", gscv.best_params_)\n",
    "print(\"Best Score:\", gscv.best_score_)"
   ]
  },
  {
   "cell_type": "markdown",
   "metadata": {},
   "source": [
    "#### ElasticNet Recursive Feature Elimination"
   ]
  },
  {
   "cell_type": "code",
   "execution_count": 17,
   "metadata": {
    "scrolled": false
   },
   "outputs": [
    {
     "name": "stdout",
     "output_type": "stream",
     "text": [
      "[1 1 1 1 1 1 1 1 1 1 1 1 1 1 1 1 1 1 1 1 1 1 3 2 1 1 1 1 1 1 1 1 1 1 1 1]\n"
     ]
    },
    {
     "data": {
      "image/png": "[encoded data removed]",
      "text/plain": [
       "<Figure size 432x288 with 1 Axes>"
      ]
     },
     "metadata": {},
     "output_type": "display_data"
    },
    {
     "name": "stdout",
     "output_type": "stream",
     "text": [
      "Optimal number of features : 34\n"
     ]
    }
   ],
   "source": [
    "from sklearn.feature_selection import RFECV\n",
    "from sklearn.model_selection import train_test_split\n",
    "\n",
    "#Create Train Test Split\n",
    "X_train, X_test, y_train, y_test = train_test_split(XDF, y, test_size=0.2, random_state=42)\n",
    "\n",
    "rfecv = RFECV(estimator=gscv.best_estimator_, step=1, cv=10, scoring='mean_squared_error', verbose=0)\n",
    "#rfecv = RFECV(estimator=gscv.best_estimator_, step=1, cv=10, scoring='r2', verbose=0)\n",
    "rfecv.fit(X_train, y_train)\n",
    "#print(rfecv.n_features_)\n",
    "print(rfecv.ranking_)\n",
    "#print(rfecv.support_)\n",
    "\n",
    "#plot features selected with cross validation score\n",
    "plt.figure()\n",
    "plt.xlabel(\"Number of features selected\")\n",
    "plt.ylabel(\"Cross validation score (nb of correct classifications)\")\n",
    "plt.plot(range(1, len(rfecv.grid_scores_) + 1), rfecv.grid_scores_)\n",
    "plt.show()\n",
    "print(\"Optimal number of features : %d\" % rfecv.n_features_)"
   ]
  },
  {
   "cell_type": "code",
   "execution_count": 19,
   "metadata": {},
   "outputs": [
    {
     "name": "stdout",
     "output_type": "stream",
     "text": [
      "22\n",
      "23\n",
      "[22, 23]\n"
     ]
    }
   ],
   "source": [
    "#Drop columns based on RFECV rankings\n",
    "droplist= []\n",
    "\n",
    "for i in range(len(rfecv.ranking_)):\n",
    "    if (rfecv.ranking_[i] != 1):\n",
    "        droplist.append(i)\n",
    "\n",
    "print(droplist)"
   ]
  },
  {
   "cell_type": "code",
   "execution_count": 21,
   "metadata": {},
   "outputs": [],
   "source": [
    "#playerNoSal = playerNoSal.drop([22, 25])\n",
    "XDF = XDF.drop(droplist)"
   ]
  },
  {
   "cell_type": "code",
   "execution_count": 22,
   "metadata": {},
   "outputs": [
    {
     "name": "stdout",
     "output_type": "stream",
     "text": [
      "Index(['yearID', 'G_x', 'AB', 'R', 'H', '2B', '3B', 'HR', 'RBI', 'SB_x',\n",
      "       'CS_x', 'BB', 'SO', 'IBB', 'HBP', 'SH', 'SF', 'GIDP', 'stint', 'G_y',\n",
      "       'GS', 'InnOuts', 'PO', 'A', 'E', 'DP', 'PB', 'SB_y', 'CS_y', 'Primary',\n",
      "       'Bavg', 'Slug', 'OBP', 'FPct', 'debutYear', 'seasonNum'],\n",
      "      dtype='object')\n"
     ]
    }
   ],
   "source": [
    "print(XDF.columns)"
   ]
  },
  {
   "cell_type": "markdown",
   "metadata": {},
   "source": [
    "### Salary Prediction - ElasticNet"
   ]
  },
  {
   "cell_type": "code",
   "execution_count": 27,
   "metadata": {},
   "outputs": [
    {
     "name": "stdout",
     "output_type": "stream",
     "text": [
      "R^2: 0.671600761167277\n",
      "MSE: 0.5876183457420965\n"
     ]
    }
   ],
   "source": [
    "enet = ElasticNet(alpha=0, l1_ratio=0)\n",
    "enet.fit(X_test, y_test)\n",
    "print(\"R^2:\", enet.score(X_test, y_test))\n",
    "yhatE = enet.predict(X_test)\n",
    "print(\"MSE:\", mt.mean_squared_error(y_test, yhatE))"
   ]
  },
  {
   "cell_type": "code",
   "execution_count": null,
   "metadata": {},
   "outputs": [],
   "source": []
  }
 ],
 "metadata": {
  "kernelspec": {
   "display_name": "Python 3",
   "language": "python",
   "name": "python3"
  },
  "language_info": {
   "codemirror_mode": {
    "name": "ipython",
    "version": 3
   },
   "file_extension": ".py",
   "mimetype": "text/x-python",
   "name": "python",
   "nbconvert_exporter": "python",
   "pygments_lexer": "ipython3",
   "version": "3.5.5"
  }
 },
 "nbformat": 4,
 "nbformat_minor": 2
}
