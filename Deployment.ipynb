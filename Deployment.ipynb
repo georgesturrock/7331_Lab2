{
 "cells": [
  {
   "cell_type": "markdown",
   "metadata": {},
   "source": [
    "## Deployment"
   ]
  },
  {
   "cell_type": "markdown",
   "metadata": {},
   "source": [
    "   The position classification and salary prediction models are most useful for Major League baseball teams, but could potentially be used for other baseball organizations. The position classification models can help teams decide where a player might perform best on the field. Running a player's statistics through the model could help determine the optimal position that fits the player's abilities. This would optimize player's abilities, which would lead to better performances and results across the team. The most useful model to classify a player's position would be the random forest model. This model had an accuracy of 87.84% and is relatively easy to understand compared to the other models. This model's accuracy could be improved by adding variables such as longest distance thrown, pitching speed and dominant throwing hand. \n",
    "    The salary prediction model would help determine how much a team should spend on a player. This would help cut excessive spending on players or be used by players to determine how much they are worth. Like the position classification model, the random forest regression would was the most accurate, at 74.3% and the most easily interpretable. The model's accuracy could be improved by adding additional variables such as popularity (such as number of times appeared in the news), number picked in the draft, and last salary earned.  \n",
    "    For the models to be used by interested parties, the model needs to be made available in the software the team's analysts use. One potential way for the position classification to be distributed would be by creating a restful API in python, then using a lambda function hosted in AWS to trigger an EC2. This model would need to be updated every season for best results. For the salary prediction model, batch predictions might be the best method. This could be deployed using tensorflow and a cloud machine learning engine such as Google's. \n",
    "    If implemented, the position classification model's worth could be determined by player's defensive efficiencies before and after a position change occured due to the model. Additionally, if a team implemented the position model for every player, the team's overall defensive statistics should be better than before the model was implemented. The salary prediction model's worth is a little harder to measure. If it was used by players, then it could be measured by assesing how much a team will pay you. This model would need to be updated every season for best results."
   ]
  },
  {
   "cell_type": "markdown",
   "metadata": {},
   "source": []
  }
 ],
 "metadata": {
  "kernelspec": {
   "display_name": "Python 3",
   "language": "python",
   "name": "python3"
  },
  "language_info": {
   "codemirror_mode": {
    "name": "ipython",
    "version": 3
   },
   "file_extension": ".py",
   "mimetype": "text/x-python",
   "name": "python",
   "nbconvert_exporter": "python",
   "pygments_lexer": "ipython3",
   "version": "3.6.3"
  }
 },
 "nbformat": 4,
 "nbformat_minor": 2
}
